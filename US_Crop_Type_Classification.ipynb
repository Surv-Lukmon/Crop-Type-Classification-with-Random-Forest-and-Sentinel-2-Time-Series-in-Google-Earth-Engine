{
 "cells": [
  {
   "cell_type": "markdown",
   "metadata": {},
   "source": [
    "### 1. INTRODUCTION"
   ]
  },
  {
   "cell_type": "markdown",
   "metadata": {},
   "source": [
    "**The project was aimed to classify crop types using time-series Sentinel-2 images with Random Forest Algorithm in Google Earth Engine (GEE) with Python API. The study region is part of Van Wert, Ohio USA.**"
   ]
  },
  {
   "cell_type": "markdown",
   "metadata": {},
   "source": [
    "### 2. IMPORT LIBRARIES AND DEFINE FUNCTIONS FOR VISUALIZATION"
   ]
  },
  {
   "cell_type": "code",
   "execution_count": 1,
   "metadata": {},
   "outputs": [],
   "source": [
    "# Import libraries\n",
    "import ee\n",
    "import geemap\n",
    "import geedim as gd\n",
    "import pandas as pd\n",
    "import geopandas as gpd\n",
    "import numpy as np\n",
    "import matplotlib.pyplot as plt\n",
    "import os\n",
    "from sklearn.preprocessing import MinMaxScaler"
   ]
  },
  {
   "cell_type": "code",
   "execution_count": 2,
   "metadata": {},
   "outputs": [
    {
     "data": {
      "text/html": [
       "\n",
       "            <style>\n",
       "                .geemap-dark {\n",
       "                    --jp-widgets-color: white;\n",
       "                    --jp-widgets-label-color: white;\n",
       "                    --jp-ui-font-color1: white;\n",
       "                    --jp-layout-color2: #454545;\n",
       "                    background-color: #383838;\n",
       "                }\n",
       "\n",
       "                .geemap-dark .jupyter-button {\n",
       "                    --jp-layout-color3: #383838;\n",
       "                }\n",
       "\n",
       "                .geemap-colab {\n",
       "                    background-color: var(--colab-primary-surface-color, white);\n",
       "                }\n",
       "\n",
       "                .geemap-colab .jupyter-button {\n",
       "                    --jp-layout-color3: var(--colab-primary-surface-color, white);\n",
       "                }\n",
       "            </style>\n",
       "            "
      ],
      "text/plain": [
       "<IPython.core.display.HTML object>"
      ]
     },
     "metadata": {},
     "output_type": "display_data"
    },
    {
     "data": {
      "text/plain": [
       "True"
      ]
     },
     "execution_count": 2,
     "metadata": {},
     "output_type": "execute_result"
    }
   ],
   "source": [
    "# Trigger the GEE authentication flow\n",
    "ee.Authenticate()"
   ]
  },
  {
   "cell_type": "code",
   "execution_count": 3,
   "metadata": {},
   "outputs": [
    {
     "data": {
      "text/html": [
       "\n",
       "            <style>\n",
       "                .geemap-dark {\n",
       "                    --jp-widgets-color: white;\n",
       "                    --jp-widgets-label-color: white;\n",
       "                    --jp-ui-font-color1: white;\n",
       "                    --jp-layout-color2: #454545;\n",
       "                    background-color: #383838;\n",
       "                }\n",
       "\n",
       "                .geemap-dark .jupyter-button {\n",
       "                    --jp-layout-color3: #383838;\n",
       "                }\n",
       "\n",
       "                .geemap-colab {\n",
       "                    background-color: var(--colab-primary-surface-color, white);\n",
       "                }\n",
       "\n",
       "                .geemap-colab .jupyter-button {\n",
       "                    --jp-layout-color3: var(--colab-primary-surface-color, white);\n",
       "                }\n",
       "            </style>\n",
       "            "
      ],
      "text/plain": [
       "<IPython.core.display.HTML object>"
      ]
     },
     "metadata": {},
     "output_type": "display_data"
    }
   ],
   "source": [
    "# Initialize the library\n",
    "ee.Initialize()"
   ]
  },
  {
   "cell_type": "code",
   "execution_count": 4,
   "metadata": {},
   "outputs": [
    {
     "data": {
      "text/html": [
       "\n",
       "            <style>\n",
       "                .geemap-dark {\n",
       "                    --jp-widgets-color: white;\n",
       "                    --jp-widgets-label-color: white;\n",
       "                    --jp-ui-font-color1: white;\n",
       "                    --jp-layout-color2: #454545;\n",
       "                    background-color: #383838;\n",
       "                }\n",
       "\n",
       "                .geemap-dark .jupyter-button {\n",
       "                    --jp-layout-color3: #383838;\n",
       "                }\n",
       "\n",
       "                .geemap-colab {\n",
       "                    background-color: var(--colab-primary-surface-color, white);\n",
       "                }\n",
       "\n",
       "                .geemap-colab .jupyter-button {\n",
       "                    --jp-layout-color3: var(--colab-primary-surface-color, white);\n",
       "                }\n",
       "            </style>\n",
       "            "
      ],
      "text/plain": [
       "<IPython.core.display.HTML object>"
      ]
     },
     "metadata": {},
     "output_type": "display_data"
    }
   ],
   "source": [
    "# Initializes the Google Earth Engine Python API\n",
    "geemap.ee_initialize()"
   ]
  },
  {
   "cell_type": "markdown",
   "metadata": {},
   "source": [
    "## Define Functions for Visualizations"
   ]
  },
  {
   "cell_type": "code",
   "execution_count": 5,
   "metadata": {},
   "outputs": [
    {
     "data": {
      "text/html": [
       "\n",
       "            <style>\n",
       "                .geemap-dark {\n",
       "                    --jp-widgets-color: white;\n",
       "                    --jp-widgets-label-color: white;\n",
       "                    --jp-ui-font-color1: white;\n",
       "                    --jp-layout-color2: #454545;\n",
       "                    background-color: #383838;\n",
       "                }\n",
       "\n",
       "                .geemap-dark .jupyter-button {\n",
       "                    --jp-layout-color3: #383838;\n",
       "                }\n",
       "\n",
       "                .geemap-colab {\n",
       "                    background-color: var(--colab-primary-surface-color, white);\n",
       "                }\n",
       "\n",
       "                .geemap-colab .jupyter-button {\n",
       "                    --jp-layout-color3: var(--colab-primary-surface-color, white);\n",
       "                }\n",
       "            </style>\n",
       "            "
      ],
      "text/plain": [
       "<IPython.core.display.HTML object>"
      ]
     },
     "metadata": {},
     "output_type": "display_data"
    }
   ],
   "source": [
    "# Function to visualize single vector layer\n",
    "def Map(layer, viz_params, name):\n",
    "    \"\"\"\n",
    "    \"\"\"\n",
    "    \n",
    "    map = geemap.Map(center=[40.7959, -84.4795], zoom = 12)\n",
    "    map.add_basemap(\"SATELLITE\")\n",
    "\n",
    "    styled_layer = layer.style(**viz_params)\n",
    "    map.addLayer(styled_layer, {}, name)\n",
    "    return map"
   ]
  },
  {
   "cell_type": "code",
   "execution_count": 6,
   "metadata": {},
   "outputs": [
    {
     "data": {
      "text/html": [
       "\n",
       "            <style>\n",
       "                .geemap-dark {\n",
       "                    --jp-widgets-color: white;\n",
       "                    --jp-widgets-label-color: white;\n",
       "                    --jp-ui-font-color1: white;\n",
       "                    --jp-layout-color2: #454545;\n",
       "                    background-color: #383838;\n",
       "                }\n",
       "\n",
       "                .geemap-dark .jupyter-button {\n",
       "                    --jp-layout-color3: #383838;\n",
       "                }\n",
       "\n",
       "                .geemap-colab {\n",
       "                    background-color: var(--colab-primary-surface-color, white);\n",
       "                }\n",
       "\n",
       "                .geemap-colab .jupyter-button {\n",
       "                    --jp-layout-color3: var(--colab-primary-surface-color, white);\n",
       "                }\n",
       "            </style>\n",
       "            "
      ],
      "text/plain": [
       "<IPython.core.display.HTML object>"
      ]
     },
     "metadata": {},
     "output_type": "display_data"
    }
   ],
   "source": [
    "# Function to visualize single raster layer\n",
    "def rasterMap(layer, viz_params, name):\n",
    "    \"\"\"\n",
    "    \"\"\"\n",
    "    \n",
    "    map = geemap.Map(center=[40.7959, -84.4795], zoom = 12)\n",
    "    map.add_basemap(\"SATELLITE\")\n",
    "\n",
    "    map.addLayer(layer, viz_params, name)\n",
    "    return map"
   ]
  },
  {
   "cell_type": "code",
   "execution_count": 7,
   "metadata": {},
   "outputs": [
    {
     "data": {
      "text/html": [
       "\n",
       "            <style>\n",
       "                .geemap-dark {\n",
       "                    --jp-widgets-color: white;\n",
       "                    --jp-widgets-label-color: white;\n",
       "                    --jp-ui-font-color1: white;\n",
       "                    --jp-layout-color2: #454545;\n",
       "                    background-color: #383838;\n",
       "                }\n",
       "\n",
       "                .geemap-dark .jupyter-button {\n",
       "                    --jp-layout-color3: #383838;\n",
       "                }\n",
       "\n",
       "                .geemap-colab {\n",
       "                    background-color: var(--colab-primary-surface-color, white);\n",
       "                }\n",
       "\n",
       "                .geemap-colab .jupyter-button {\n",
       "                    --jp-layout-color3: var(--colab-primary-surface-color, white);\n",
       "                }\n",
       "            </style>\n",
       "            "
      ],
      "text/plain": [
       "<IPython.core.display.HTML object>"
      ]
     },
     "metadata": {},
     "output_type": "display_data"
    }
   ],
   "source": [
    "# Function to visualize two (2) layers using slider Map\n",
    "\n",
    "def sliderMap(layer1params, layer2params):\n",
    "    \"\"\"\n",
    "\n",
    "    \"\"\"\n",
    "\n",
    "    ee_object1, vis_params1, name1 = layer1params\n",
    "    ee_object2, vis_params2, name2 = layer2params\n",
    "    \n",
    "    left_layer = geemap.ee_tile_layer(ee_object1, vis_params1, name=name1)\n",
    "    right_layer = geemap.ee_tile_layer(ee_object2, vis_params2, name=name2)\n",
    "    \n",
    "    map = geemap.Map(center=(40.7959, -84.4795), zoom =12)\n",
    "\n",
    "    map.split_map(left_layer, right_layer)\n",
    "    return map"
   ]
  },
  {
   "cell_type": "code",
   "execution_count": 8,
   "metadata": {},
   "outputs": [
    {
     "data": {
      "text/html": [
       "\n",
       "            <style>\n",
       "                .geemap-dark {\n",
       "                    --jp-widgets-color: white;\n",
       "                    --jp-widgets-label-color: white;\n",
       "                    --jp-ui-font-color1: white;\n",
       "                    --jp-layout-color2: #454545;\n",
       "                    background-color: #383838;\n",
       "                }\n",
       "\n",
       "                .geemap-dark .jupyter-button {\n",
       "                    --jp-layout-color3: #383838;\n",
       "                }\n",
       "\n",
       "                .geemap-colab {\n",
       "                    background-color: var(--colab-primary-surface-color, white);\n",
       "                }\n",
       "\n",
       "                .geemap-colab .jupyter-button {\n",
       "                    --jp-layout-color3: var(--colab-primary-surface-color, white);\n",
       "                }\n",
       "            </style>\n",
       "            "
      ],
      "text/plain": [
       "<IPython.core.display.HTML object>"
      ]
     },
     "metadata": {},
     "output_type": "display_data"
    }
   ],
   "source": [
    "# Function to visualize four (4) layers using a linked map\n",
    "def linkedMap(layers, viz_params, labels):\n",
    "    \"\"\"\n",
    "    \"\"\"\n",
    "\n",
    "    map = geemap.linked_maps(\n",
    "        rows=2,\n",
    "        cols=2,\n",
    "        height=\"450px\",\n",
    "        center= [40.7959, -84.4795],\n",
    "        zoom=11,\n",
    "        ee_objects=layers,\n",
    "        vis_params= viz_params,\n",
    "        labels= labels,\n",
    "        label_position=\"topright\"\n",
    "    )\n",
    "    return map"
   ]
  },
  {
   "cell_type": "markdown",
   "metadata": {},
   "source": [
    "### 3. Data Downloading and Processing"
   ]
  },
  {
   "cell_type": "markdown",
   "metadata": {},
   "source": [
    "#### Boundary Data"
   ]
  },
  {
   "cell_type": "code",
   "execution_count": 9,
   "metadata": {},
   "outputs": [
    {
     "data": {
      "text/html": [
       "\n",
       "            <style>\n",
       "                .geemap-dark {\n",
       "                    --jp-widgets-color: white;\n",
       "                    --jp-widgets-label-color: white;\n",
       "                    --jp-ui-font-color1: white;\n",
       "                    --jp-layout-color2: #454545;\n",
       "                    background-color: #383838;\n",
       "                }\n",
       "\n",
       "                .geemap-dark .jupyter-button {\n",
       "                    --jp-layout-color3: #383838;\n",
       "                }\n",
       "\n",
       "                .geemap-colab {\n",
       "                    background-color: var(--colab-primary-surface-color, white);\n",
       "                }\n",
       "\n",
       "                .geemap-colab .jupyter-button {\n",
       "                    --jp-layout-color3: var(--colab-primary-surface-color, white);\n",
       "                }\n",
       "            </style>\n",
       "            "
      ],
      "text/plain": [
       "<IPython.core.display.HTML object>"
      ]
     },
     "metadata": {},
     "output_type": "display_data"
    }
   ],
   "source": [
    "# Define the study region extent\n",
    "# The study area is part of Van Wert, Ohio USA.\n",
    "roi = ee.Geometry.Polygon(\n",
    "    [[-84.70947870462608,40.64732007950524],\n",
    "    [-84.20342096536827,40.64732007950524],\n",
    "    [-84.20342096536827,40.89536512997029],\n",
    "    [-84.70947870462608,40.89536512997029],\n",
    "    [-84.70947870462608,40.64732007950524]])"
   ]
  },
  {
   "cell_type": "code",
   "execution_count": 10,
   "metadata": {},
   "outputs": [
    {
     "data": {
      "text/html": [
       "\n",
       "            <style>\n",
       "                .geemap-dark {\n",
       "                    --jp-widgets-color: white;\n",
       "                    --jp-widgets-label-color: white;\n",
       "                    --jp-ui-font-color1: white;\n",
       "                    --jp-layout-color2: #454545;\n",
       "                    background-color: #383838;\n",
       "                }\n",
       "\n",
       "                .geemap-dark .jupyter-button {\n",
       "                    --jp-layout-color3: #383838;\n",
       "                }\n",
       "\n",
       "                .geemap-colab {\n",
       "                    background-color: var(--colab-primary-surface-color, white);\n",
       "                }\n",
       "\n",
       "                .geemap-colab .jupyter-button {\n",
       "                    --jp-layout-color3: var(--colab-primary-surface-color, white);\n",
       "                }\n",
       "            </style>\n",
       "            "
      ],
      "text/plain": [
       "<IPython.core.display.HTML object>"
      ]
     },
     "metadata": {},
     "output_type": "display_data"
    },
    {
     "data": {
      "application/vnd.jupyter.widget-view+json": {
       "model_id": "4c900c55f1be4930b3acabb4b0e71e6d",
       "version_major": 2,
       "version_minor": 0
      },
      "text/plain": [
       "Map(center=[40.7959, -84.4795], controls=(WidgetControl(options=['position', 'transparent_bg'], widget=SearchD…"
      ]
     },
     "execution_count": 10,
     "metadata": {},
     "output_type": "execute_result"
    }
   ],
   "source": [
    "# Visualize the study region/roi\n",
    "Map = geemap.Map(center=[40.7959, -84.4795], zoom=7)  \n",
    "\n",
    "# Convert the roi from feature collection to a GeodataFrame\n",
    "roi_layer = geemap.ee_to_gdf(ee.FeatureCollection(roi))\n",
    "Map.add_gdf(roi_layer, style={\"fillColor\": \"rgba(0, 0, 0, 0)\", \"color\": \"red\", \"weight\": 2})\n",
    "\n",
    "Map.add_basemap(\"SATELLITE\")\n",
    "Map"
   ]
  },
  {
   "cell_type": "markdown",
   "metadata": {},
   "source": [
    "####  NAIP: National Agriculture Imagery Program "
   ]
  },
  {
   "cell_type": "code",
   "execution_count": 11,
   "metadata": {},
   "outputs": [
    {
     "data": {
      "text/html": [
       "\n",
       "            <style>\n",
       "                .geemap-dark {\n",
       "                    --jp-widgets-color: white;\n",
       "                    --jp-widgets-label-color: white;\n",
       "                    --jp-ui-font-color1: white;\n",
       "                    --jp-layout-color2: #454545;\n",
       "                    background-color: #383838;\n",
       "                }\n",
       "\n",
       "                .geemap-dark .jupyter-button {\n",
       "                    --jp-layout-color3: #383838;\n",
       "                }\n",
       "\n",
       "                .geemap-colab {\n",
       "                    background-color: var(--colab-primary-surface-color, white);\n",
       "                }\n",
       "\n",
       "                .geemap-colab .jupyter-button {\n",
       "                    --jp-layout-color3: var(--colab-primary-surface-color, white);\n",
       "                }\n",
       "            </style>\n",
       "            "
      ],
      "text/plain": [
       "<IPython.core.display.HTML object>"
      ]
     },
     "metadata": {},
     "output_type": "display_data"
    }
   ],
   "source": [
    "# Load the National Agriculture Imagery Program (NAIP) satellite imagery (0.6m)\n",
    "naip = (ee.ImageCollection(\"USDA/NAIP/DOQQ\")\n",
    "        .filter(ee.Filter.date(\"2021-06-20\", \"2021-08-30\"))\n",
    "        .filterBounds(roi))\n",
    "\n",
    "naip = naip.median()"
   ]
  },
  {
   "cell_type": "code",
   "execution_count": 12,
   "metadata": {},
   "outputs": [
    {
     "data": {
      "text/html": [
       "\n",
       "            <style>\n",
       "                .geemap-dark {\n",
       "                    --jp-widgets-color: white;\n",
       "                    --jp-widgets-label-color: white;\n",
       "                    --jp-ui-font-color1: white;\n",
       "                    --jp-layout-color2: #454545;\n",
       "                    background-color: #383838;\n",
       "                }\n",
       "\n",
       "                .geemap-dark .jupyter-button {\n",
       "                    --jp-layout-color3: #383838;\n",
       "                }\n",
       "\n",
       "                .geemap-colab {\n",
       "                    background-color: var(--colab-primary-surface-color, white);\n",
       "                }\n",
       "\n",
       "                .geemap-colab .jupyter-button {\n",
       "                    --jp-layout-color3: var(--colab-primary-surface-color, white);\n",
       "                }\n",
       "            </style>\n",
       "            "
      ],
      "text/plain": [
       "<IPython.core.display.HTML object>"
      ]
     },
     "metadata": {},
     "output_type": "display_data"
    },
    {
     "data": {
      "application/vnd.jupyter.widget-view+json": {
       "model_id": "51bce1d43fc3402fbf16b49365e67621",
       "version_major": 2,
       "version_minor": 0
      },
      "text/plain": [
       "Map(center=[40.7959, -84.4795], controls=(WidgetControl(options=['position', 'transparent_bg'], widget=SearchD…"
      ]
     },
     "execution_count": 12,
     "metadata": {},
     "output_type": "execute_result"
    }
   ],
   "source": [
    "# Visualize the naip layer\n",
    "viz_params_naip = {\n",
    "    \"min\": 0,\n",
    "    \"max\": 255,\n",
    "    \"gamma\": 0.9\n",
    "}\n",
    "\n",
    "rasterMap(naip.select([\"R\", \"G\", \"B\"]), viz_params_naip, \"NAIP\")"
   ]
  },
  {
   "cell_type": "markdown",
   "metadata": {},
   "source": [
    "#### ESA Sentinel-2 Time-Series Images"
   ]
  },
  {
   "cell_type": "code",
   "execution_count": 13,
   "metadata": {},
   "outputs": [
    {
     "data": {
      "text/html": [
       "\n",
       "            <style>\n",
       "                .geemap-dark {\n",
       "                    --jp-widgets-color: white;\n",
       "                    --jp-widgets-label-color: white;\n",
       "                    --jp-ui-font-color1: white;\n",
       "                    --jp-layout-color2: #454545;\n",
       "                    background-color: #383838;\n",
       "                }\n",
       "\n",
       "                .geemap-dark .jupyter-button {\n",
       "                    --jp-layout-color3: #383838;\n",
       "                }\n",
       "\n",
       "                .geemap-colab {\n",
       "                    background-color: var(--colab-primary-surface-color, white);\n",
       "                }\n",
       "\n",
       "                .geemap-colab .jupyter-button {\n",
       "                    --jp-layout-color3: var(--colab-primary-surface-color, white);\n",
       "                }\n",
       "            </style>\n",
       "            "
      ],
      "text/plain": [
       "<IPython.core.display.HTML object>"
      ]
     },
     "metadata": {},
     "output_type": "display_data"
    }
   ],
   "source": [
    "## Define a function that download and process time-series sentinel-2 images\n",
    "def s2Process(dates, extent, cloud):\n",
    "\n",
    "    \"\"\"\n",
    "\n",
    "    \"\"\"\n",
    "    start_date, end_date = dates\n",
    "    \n",
    "    # Filter and download Sentinel-2 image collection \n",
    "    def imgDownload():\n",
    "        \n",
    "        img_collection = (ee.ImageCollection(\"COPERNICUS/S2_SR_HARMONIZED\")\n",
    "                    .filterDate(start_date, end_date)\n",
    "                    .filter(ee.Filter.lt(\"CLOUDY_PIXEL_PERCENTAGE\", cloud))\n",
    "                    .filterBounds(extent))\n",
    "        print(f\"There are {img_collection.size().getInfo()} Sentinel-2 Images\")\n",
    "\n",
    "        s2_default_proj = ee.Image(img_collection.first()).select(\"B4\").projection()\n",
    "        return img_collection\n",
    "\n",
    "    # Function for cloud masking\n",
    "    def s2ClearSky(image):\n",
    "      \n",
    "        scl = image.select('SCL')\n",
    "        clear_sky_pixels = scl.eq(4).Or(scl.eq(5)).Or(scl.eq(6)).Or(scl.eq(11))\n",
    "        return image.updateMask(clear_sky_pixels)\n",
    "    \n",
    "    # Function to apply scale factor to convert pixel values to reflectance\n",
    "    def scaleBands(image):\n",
    "        return image.multiply(0.0001).copyProperties(image, ['system:time_start'])\n",
    "    \n",
    "    # Function for resampling 20 meter bands to 10m\n",
    "    def bandResample(image):\n",
    "       \n",
    "        bands_10m = image.select([\"B2\", \"B3\", \"B4\", \"B8\"])\n",
    "        bands_20m = image.select([\"B5\",\"B6\", \"B7\", \"B8A\", \"B11\", \"B12\"]).resample(\"bilinear\").reproject(crs=bands_10m.projection(), scale=10)\n",
    "        return bands_10m.addBands(bands_20m)\n",
    "\n",
    "\n",
    "    # Function to compute spectral indices\n",
    "    def indices(image):\n",
    "        \n",
    "        ndvi = image.normalizedDifference([\"B8\", \"B4\"]).rename(\"ndvi\")\n",
    "        gndvi = image.normalizedDifference([\"B8\", \"B3\"]).rename(\"gndvi\")\n",
    "        mndwi = image.normalizedDifference([\"B3\", \"B11\"]).rename(\"mndwi\")\n",
    "        \n",
    "        return image.addBands([ndvi, mndwi, gndvi])\n",
    "    \n",
    "    # Donwload the image collection\n",
    "    s2_collection = imgDownload()\n",
    "\n",
    "    # Extract the projection before any processing\n",
    "    s2_default_proj = ee.Image(s2_collection.first()).select(\"B4\").projection()\n",
    "\n",
    "    # Apply the functions to remove clouds, resmaple bands, and compute spectral indices\n",
    "    s2_collection_resampled = (s2_collection\n",
    "                           .map(s2ClearSky)\n",
    "                           .map(bandResample)\n",
    "                           .map(scaleBands)\n",
    "                           .map(indices))\n",
    "                           #.select([\"B2\", \"B3\", \"B4\", \"B8\", \"B11\", \"B12\", \"ndvi\"]))\n",
    "    \n",
    "    # List of months with their end dates\n",
    "    months = [\n",
    "        {'name': 'May', 'end': 31},\n",
    "        {'name': 'June', 'end': 30},\n",
    "        {'name': 'July', 'end': 31},\n",
    "        {'name': 'August', 'end': 31},\n",
    "        {'name': 'September', 'end': 30},\n",
    "        {'name': 'October', 'end': 31}\n",
    "    ]\n",
    "\n",
    "    # Function to create monthly composites\n",
    "    def MonthlyComposite(month, index):\n",
    "        start = ee.Date.fromYMD(2023, index + 5, 1)\n",
    "        end = ee.Date.fromYMD(2023, index + 5, month['end'])\n",
    "\n",
    "        monthly_images = s2_collection_resampled.filterDate(start, end)\n",
    "        \n",
    "        count = monthly_images.size().getInfo()\n",
    "        print(f\"Month: {month['name']}, Image Count: {count}\")  \n",
    "        if count == 0:\n",
    "            print(f\"No images found for month: {month['name']}\")\n",
    "            return ee.Image().set('month', month['name'])  \n",
    "\n",
    "        composite = (monthly_images.median()\n",
    "                      .clip(extent)\n",
    "                      .set('month', month['name'])\n",
    "                      .setDefaultProjection(s2_default_proj))\n",
    "\n",
    "        return composite\n",
    "\n",
    "    # Create monthly composites for May to October\n",
    "    monthly_composites = [MonthlyComposite(month, index) for index, month in enumerate(months)]\n",
    "    \n",
    "\n",
    "    # Stack the monthly composites\n",
    "    stacked_composite = ee.Image.cat(monthly_composites)\n",
    "\n",
    "    # View the properties of the stacked composite\n",
    "    print('Monthly Composites:', stacked_composite.getInfo())\n",
    "\n",
    "    # Check the bands in the stacked composite\n",
    "    stacked_band_names = stacked_composite.bandNames().getInfo()\n",
    "    print(f\"The following are the bands in the stacked composite: {stacked_band_names}\")\n",
    "\n",
    "    # Check the CRS of the stacked composite\n",
    "    stacked_proj = stacked_composite.select(\"B4\").projection().crs().getInfo()\n",
    "    print(f\"The CRS of the stacke composite is: {stacked_proj}\")\n",
    "\n",
    "    return stacked_composite\n"
   ]
  },
  {
   "cell_type": "code",
   "execution_count": 14,
   "metadata": {},
   "outputs": [
    {
     "data": {
      "text/html": [
       "\n",
       "            <style>\n",
       "                .geemap-dark {\n",
       "                    --jp-widgets-color: white;\n",
       "                    --jp-widgets-label-color: white;\n",
       "                    --jp-ui-font-color1: white;\n",
       "                    --jp-layout-color2: #454545;\n",
       "                    background-color: #383838;\n",
       "                }\n",
       "\n",
       "                .geemap-dark .jupyter-button {\n",
       "                    --jp-layout-color3: #383838;\n",
       "                }\n",
       "\n",
       "                .geemap-colab {\n",
       "                    background-color: var(--colab-primary-surface-color, white);\n",
       "                }\n",
       "\n",
       "                .geemap-colab .jupyter-button {\n",
       "                    --jp-layout-color3: var(--colab-primary-surface-color, white);\n",
       "                }\n",
       "            </style>\n",
       "            "
      ],
      "text/plain": [
       "<IPython.core.display.HTML object>"
      ]
     },
     "metadata": {},
     "output_type": "display_data"
    },
    {
     "name": "stdout",
     "output_type": "stream",
     "text": [
      "There are 62 Sentinel-2 Images\n",
      "Month: May, Image Count: 15\n",
      "Month: June, Image Count: 5\n",
      "Month: July, Image Count: 5\n",
      "Month: August, Image Count: 9\n",
      "Month: September, Image Count: 7\n",
      "Month: October, Image Count: 12\n",
      "Monthly Composites: {'type': 'Image', 'bands': [{'id': 'B2', 'data_type': {'type': 'PixelType', 'precision': 'double', 'min': 0, 'max': 6.5535000000000005}, 'dimensions': [25869, 22930], 'origin': [-1719, -5751], 'crs': 'EPSG:32616', 'crs_transform': [10, 0, 600000, 0, -10, 4600020]}, {'id': 'B3', 'data_type': {'type': 'PixelType', 'precision': 'double', 'min': 0, 'max': 6.5535000000000005}, 'dimensions': [25869, 22930], 'origin': [-1719, -5751], 'crs': 'EPSG:32616', 'crs_transform': [10, 0, 600000, 0, -10, 4600020]}, {'id': 'B4', 'data_type': {'type': 'PixelType', 'precision': 'double', 'min': 0, 'max': 6.5535000000000005}, 'dimensions': [25869, 22930], 'origin': [-1719, -5751], 'crs': 'EPSG:32616', 'crs_transform': [10, 0, 600000, 0, -10, 4600020]}, {'id': 'B8', 'data_type': {'type': 'PixelType', 'precision': 'double', 'min': 0, 'max': 6.5535000000000005}, 'dimensions': [25869, 22930], 'origin': [-1719, -5751], 'crs': 'EPSG:32616', 'crs_transform': [10, 0, 600000, 0, -10, 4600020]}, {'id': 'B5', 'data_type': {'type': 'PixelType', 'precision': 'double', 'min': 0, 'max': 6.5535000000000005}, 'dimensions': [25869, 22930], 'origin': [-1719, -5751], 'crs': 'EPSG:32616', 'crs_transform': [10, 0, 600000, 0, -10, 4600020]}, {'id': 'B6', 'data_type': {'type': 'PixelType', 'precision': 'double', 'min': 0, 'max': 6.5535000000000005}, 'dimensions': [25869, 22930], 'origin': [-1719, -5751], 'crs': 'EPSG:32616', 'crs_transform': [10, 0, 600000, 0, -10, 4600020]}, {'id': 'B7', 'data_type': {'type': 'PixelType', 'precision': 'double', 'min': 0, 'max': 6.5535000000000005}, 'dimensions': [25869, 22930], 'origin': [-1719, -5751], 'crs': 'EPSG:32616', 'crs_transform': [10, 0, 600000, 0, -10, 4600020]}, {'id': 'B8A', 'data_type': {'type': 'PixelType', 'precision': 'double', 'min': 0, 'max': 6.5535000000000005}, 'dimensions': [25869, 22930], 'origin': [-1719, -5751], 'crs': 'EPSG:32616', 'crs_transform': [10, 0, 600000, 0, -10, 4600020]}, {'id': 'B11', 'data_type': {'type': 'PixelType', 'precision': 'double', 'min': 0, 'max': 6.5535000000000005}, 'dimensions': [25869, 22930], 'origin': [-1719, -5751], 'crs': 'EPSG:32616', 'crs_transform': [10, 0, 600000, 0, -10, 4600020]}, {'id': 'B12', 'data_type': {'type': 'PixelType', 'precision': 'double', 'min': 0, 'max': 6.5535000000000005}, 'dimensions': [25869, 22930], 'origin': [-1719, -5751], 'crs': 'EPSG:32616', 'crs_transform': [10, 0, 600000, 0, -10, 4600020]}, {'id': 'ndvi', 'data_type': {'type': 'PixelType', 'precision': 'float', 'min': -1, 'max': 1}, 'dimensions': [25869, 22930], 'origin': [-1719, -5751], 'crs': 'EPSG:32616', 'crs_transform': [10, 0, 600000, 0, -10, 4600020]}, {'id': 'mndwi', 'data_type': {'type': 'PixelType', 'precision': 'float', 'min': -1, 'max': 1}, 'dimensions': [25869, 22930], 'origin': [-1719, -5751], 'crs': 'EPSG:32616', 'crs_transform': [10, 0, 600000, 0, -10, 4600020]}, {'id': 'gndvi', 'data_type': {'type': 'PixelType', 'precision': 'float', 'min': -1, 'max': 1}, 'dimensions': [25869, 22930], 'origin': [-1719, -5751], 'crs': 'EPSG:32616', 'crs_transform': [10, 0, 600000, 0, -10, 4600020]}, {'id': 'B2_1', 'data_type': {'type': 'PixelType', 'precision': 'double', 'min': 0, 'max': 6.5535000000000005}, 'dimensions': [25869, 22930], 'origin': [-1719, -5751], 'crs': 'EPSG:32616', 'crs_transform': [10, 0, 600000, 0, -10, 4600020]}, {'id': 'B3_1', 'data_type': {'type': 'PixelType', 'precision': 'double', 'min': 0, 'max': 6.5535000000000005}, 'dimensions': [25869, 22930], 'origin': [-1719, -5751], 'crs': 'EPSG:32616', 'crs_transform': [10, 0, 600000, 0, -10, 4600020]}, {'id': 'B4_1', 'data_type': {'type': 'PixelType', 'precision': 'double', 'min': 0, 'max': 6.5535000000000005}, 'dimensions': [25869, 22930], 'origin': [-1719, -5751], 'crs': 'EPSG:32616', 'crs_transform': [10, 0, 600000, 0, -10, 4600020]}, {'id': 'B8_1', 'data_type': {'type': 'PixelType', 'precision': 'double', 'min': 0, 'max': 6.5535000000000005}, 'dimensions': [25869, 22930], 'origin': [-1719, -5751], 'crs': 'EPSG:32616', 'crs_transform': [10, 0, 600000, 0, -10, 4600020]}, {'id': 'B5_1', 'data_type': {'type': 'PixelType', 'precision': 'double', 'min': 0, 'max': 6.5535000000000005}, 'dimensions': [25869, 22930], 'origin': [-1719, -5751], 'crs': 'EPSG:32616', 'crs_transform': [10, 0, 600000, 0, -10, 4600020]}, {'id': 'B6_1', 'data_type': {'type': 'PixelType', 'precision': 'double', 'min': 0, 'max': 6.5535000000000005}, 'dimensions': [25869, 22930], 'origin': [-1719, -5751], 'crs': 'EPSG:32616', 'crs_transform': [10, 0, 600000, 0, -10, 4600020]}, {'id': 'B7_1', 'data_type': {'type': 'PixelType', 'precision': 'double', 'min': 0, 'max': 6.5535000000000005}, 'dimensions': [25869, 22930], 'origin': [-1719, -5751], 'crs': 'EPSG:32616', 'crs_transform': [10, 0, 600000, 0, -10, 4600020]}, {'id': 'B8A_1', 'data_type': {'type': 'PixelType', 'precision': 'double', 'min': 0, 'max': 6.5535000000000005}, 'dimensions': [25869, 22930], 'origin': [-1719, -5751], 'crs': 'EPSG:32616', 'crs_transform': [10, 0, 600000, 0, -10, 4600020]}, {'id': 'B11_1', 'data_type': {'type': 'PixelType', 'precision': 'double', 'min': 0, 'max': 6.5535000000000005}, 'dimensions': [25869, 22930], 'origin': [-1719, -5751], 'crs': 'EPSG:32616', 'crs_transform': [10, 0, 600000, 0, -10, 4600020]}, {'id': 'B12_1', 'data_type': {'type': 'PixelType', 'precision': 'double', 'min': 0, 'max': 6.5535000000000005}, 'dimensions': [25869, 22930], 'origin': [-1719, -5751], 'crs': 'EPSG:32616', 'crs_transform': [10, 0, 600000, 0, -10, 4600020]}, {'id': 'ndvi_1', 'data_type': {'type': 'PixelType', 'precision': 'float', 'min': -1, 'max': 1}, 'dimensions': [25869, 22930], 'origin': [-1719, -5751], 'crs': 'EPSG:32616', 'crs_transform': [10, 0, 600000, 0, -10, 4600020]}, {'id': 'mndwi_1', 'data_type': {'type': 'PixelType', 'precision': 'float', 'min': -1, 'max': 1}, 'dimensions': [25869, 22930], 'origin': [-1719, -5751], 'crs': 'EPSG:32616', 'crs_transform': [10, 0, 600000, 0, -10, 4600020]}, {'id': 'gndvi_1', 'data_type': {'type': 'PixelType', 'precision': 'float', 'min': -1, 'max': 1}, 'dimensions': [25869, 22930], 'origin': [-1719, -5751], 'crs': 'EPSG:32616', 'crs_transform': [10, 0, 600000, 0, -10, 4600020]}, {'id': 'B2_2', 'data_type': {'type': 'PixelType', 'precision': 'double', 'min': 0, 'max': 6.5535000000000005}, 'dimensions': [25869, 22930], 'origin': [-1719, -5751], 'crs': 'EPSG:32616', 'crs_transform': [10, 0, 600000, 0, -10, 4600020]}, {'id': 'B3_2', 'data_type': {'type': 'PixelType', 'precision': 'double', 'min': 0, 'max': 6.5535000000000005}, 'dimensions': [25869, 22930], 'origin': [-1719, -5751], 'crs': 'EPSG:32616', 'crs_transform': [10, 0, 600000, 0, -10, 4600020]}, {'id': 'B4_2', 'data_type': {'type': 'PixelType', 'precision': 'double', 'min': 0, 'max': 6.5535000000000005}, 'dimensions': [25869, 22930], 'origin': [-1719, -5751], 'crs': 'EPSG:32616', 'crs_transform': [10, 0, 600000, 0, -10, 4600020]}, {'id': 'B8_2', 'data_type': {'type': 'PixelType', 'precision': 'double', 'min': 0, 'max': 6.5535000000000005}, 'dimensions': [25869, 22930], 'origin': [-1719, -5751], 'crs': 'EPSG:32616', 'crs_transform': [10, 0, 600000, 0, -10, 4600020]}, {'id': 'B5_2', 'data_type': {'type': 'PixelType', 'precision': 'double', 'min': 0, 'max': 6.5535000000000005}, 'dimensions': [25869, 22930], 'origin': [-1719, -5751], 'crs': 'EPSG:32616', 'crs_transform': [10, 0, 600000, 0, -10, 4600020]}, {'id': 'B6_2', 'data_type': {'type': 'PixelType', 'precision': 'double', 'min': 0, 'max': 6.5535000000000005}, 'dimensions': [25869, 22930], 'origin': [-1719, -5751], 'crs': 'EPSG:32616', 'crs_transform': [10, 0, 600000, 0, -10, 4600020]}, {'id': 'B7_2', 'data_type': {'type': 'PixelType', 'precision': 'double', 'min': 0, 'max': 6.5535000000000005}, 'dimensions': [25869, 22930], 'origin': [-1719, -5751], 'crs': 'EPSG:32616', 'crs_transform': [10, 0, 600000, 0, -10, 4600020]}, {'id': 'B8A_2', 'data_type': {'type': 'PixelType', 'precision': 'double', 'min': 0, 'max': 6.5535000000000005}, 'dimensions': [25869, 22930], 'origin': [-1719, -5751], 'crs': 'EPSG:32616', 'crs_transform': [10, 0, 600000, 0, -10, 4600020]}, {'id': 'B11_2', 'data_type': {'type': 'PixelType', 'precision': 'double', 'min': 0, 'max': 6.5535000000000005}, 'dimensions': [25869, 22930], 'origin': [-1719, -5751], 'crs': 'EPSG:32616', 'crs_transform': [10, 0, 600000, 0, -10, 4600020]}, {'id': 'B12_2', 'data_type': {'type': 'PixelType', 'precision': 'double', 'min': 0, 'max': 6.5535000000000005}, 'dimensions': [25869, 22930], 'origin': [-1719, -5751], 'crs': 'EPSG:32616', 'crs_transform': [10, 0, 600000, 0, -10, 4600020]}, {'id': 'ndvi_2', 'data_type': {'type': 'PixelType', 'precision': 'float', 'min': -1, 'max': 1}, 'dimensions': [25869, 22930], 'origin': [-1719, -5751], 'crs': 'EPSG:32616', 'crs_transform': [10, 0, 600000, 0, -10, 4600020]}, {'id': 'mndwi_2', 'data_type': {'type': 'PixelType', 'precision': 'float', 'min': -1, 'max': 1}, 'dimensions': [25869, 22930], 'origin': [-1719, -5751], 'crs': 'EPSG:32616', 'crs_transform': [10, 0, 600000, 0, -10, 4600020]}, {'id': 'gndvi_2', 'data_type': {'type': 'PixelType', 'precision': 'float', 'min': -1, 'max': 1}, 'dimensions': [25869, 22930], 'origin': [-1719, -5751], 'crs': 'EPSG:32616', 'crs_transform': [10, 0, 600000, 0, -10, 4600020]}, {'id': 'B2_3', 'data_type': {'type': 'PixelType', 'precision': 'double', 'min': 0, 'max': 6.5535000000000005}, 'dimensions': [25869, 22930], 'origin': [-1719, -5751], 'crs': 'EPSG:32616', 'crs_transform': [10, 0, 600000, 0, -10, 4600020]}, {'id': 'B3_3', 'data_type': {'type': 'PixelType', 'precision': 'double', 'min': 0, 'max': 6.5535000000000005}, 'dimensions': [25869, 22930], 'origin': [-1719, -5751], 'crs': 'EPSG:32616', 'crs_transform': [10, 0, 600000, 0, -10, 4600020]}, {'id': 'B4_3', 'data_type': {'type': 'PixelType', 'precision': 'double', 'min': 0, 'max': 6.5535000000000005}, 'dimensions': [25869, 22930], 'origin': [-1719, -5751], 'crs': 'EPSG:32616', 'crs_transform': [10, 0, 600000, 0, -10, 4600020]}, {'id': 'B8_3', 'data_type': {'type': 'PixelType', 'precision': 'double', 'min': 0, 'max': 6.5535000000000005}, 'dimensions': [25869, 22930], 'origin': [-1719, -5751], 'crs': 'EPSG:32616', 'crs_transform': [10, 0, 600000, 0, -10, 4600020]}, {'id': 'B5_3', 'data_type': {'type': 'PixelType', 'precision': 'double', 'min': 0, 'max': 6.5535000000000005}, 'dimensions': [25869, 22930], 'origin': [-1719, -5751], 'crs': 'EPSG:32616', 'crs_transform': [10, 0, 600000, 0, -10, 4600020]}, {'id': 'B6_3', 'data_type': {'type': 'PixelType', 'precision': 'double', 'min': 0, 'max': 6.5535000000000005}, 'dimensions': [25869, 22930], 'origin': [-1719, -5751], 'crs': 'EPSG:32616', 'crs_transform': [10, 0, 600000, 0, -10, 4600020]}, {'id': 'B7_3', 'data_type': {'type': 'PixelType', 'precision': 'double', 'min': 0, 'max': 6.5535000000000005}, 'dimensions': [25869, 22930], 'origin': [-1719, -5751], 'crs': 'EPSG:32616', 'crs_transform': [10, 0, 600000, 0, -10, 4600020]}, {'id': 'B8A_3', 'data_type': {'type': 'PixelType', 'precision': 'double', 'min': 0, 'max': 6.5535000000000005}, 'dimensions': [25869, 22930], 'origin': [-1719, -5751], 'crs': 'EPSG:32616', 'crs_transform': [10, 0, 600000, 0, -10, 4600020]}, {'id': 'B11_3', 'data_type': {'type': 'PixelType', 'precision': 'double', 'min': 0, 'max': 6.5535000000000005}, 'dimensions': [25869, 22930], 'origin': [-1719, -5751], 'crs': 'EPSG:32616', 'crs_transform': [10, 0, 600000, 0, -10, 4600020]}, {'id': 'B12_3', 'data_type': {'type': 'PixelType', 'precision': 'double', 'min': 0, 'max': 6.5535000000000005}, 'dimensions': [25869, 22930], 'origin': [-1719, -5751], 'crs': 'EPSG:32616', 'crs_transform': [10, 0, 600000, 0, -10, 4600020]}, {'id': 'ndvi_3', 'data_type': {'type': 'PixelType', 'precision': 'float', 'min': -1, 'max': 1}, 'dimensions': [25869, 22930], 'origin': [-1719, -5751], 'crs': 'EPSG:32616', 'crs_transform': [10, 0, 600000, 0, -10, 4600020]}, {'id': 'mndwi_3', 'data_type': {'type': 'PixelType', 'precision': 'float', 'min': -1, 'max': 1}, 'dimensions': [25869, 22930], 'origin': [-1719, -5751], 'crs': 'EPSG:32616', 'crs_transform': [10, 0, 600000, 0, -10, 4600020]}, {'id': 'gndvi_3', 'data_type': {'type': 'PixelType', 'precision': 'float', 'min': -1, 'max': 1}, 'dimensions': [25869, 22930], 'origin': [-1719, -5751], 'crs': 'EPSG:32616', 'crs_transform': [10, 0, 600000, 0, -10, 4600020]}, {'id': 'B2_4', 'data_type': {'type': 'PixelType', 'precision': 'double', 'min': 0, 'max': 6.5535000000000005}, 'dimensions': [25869, 22930], 'origin': [-1719, -5751], 'crs': 'EPSG:32616', 'crs_transform': [10, 0, 600000, 0, -10, 4600020]}, {'id': 'B3_4', 'data_type': {'type': 'PixelType', 'precision': 'double', 'min': 0, 'max': 6.5535000000000005}, 'dimensions': [25869, 22930], 'origin': [-1719, -5751], 'crs': 'EPSG:32616', 'crs_transform': [10, 0, 600000, 0, -10, 4600020]}, {'id': 'B4_4', 'data_type': {'type': 'PixelType', 'precision': 'double', 'min': 0, 'max': 6.5535000000000005}, 'dimensions': [25869, 22930], 'origin': [-1719, -5751], 'crs': 'EPSG:32616', 'crs_transform': [10, 0, 600000, 0, -10, 4600020]}, {'id': 'B8_4', 'data_type': {'type': 'PixelType', 'precision': 'double', 'min': 0, 'max': 6.5535000000000005}, 'dimensions': [25869, 22930], 'origin': [-1719, -5751], 'crs': 'EPSG:32616', 'crs_transform': [10, 0, 600000, 0, -10, 4600020]}, {'id': 'B5_4', 'data_type': {'type': 'PixelType', 'precision': 'double', 'min': 0, 'max': 6.5535000000000005}, 'dimensions': [25869, 22930], 'origin': [-1719, -5751], 'crs': 'EPSG:32616', 'crs_transform': [10, 0, 600000, 0, -10, 4600020]}, {'id': 'B6_4', 'data_type': {'type': 'PixelType', 'precision': 'double', 'min': 0, 'max': 6.5535000000000005}, 'dimensions': [25869, 22930], 'origin': [-1719, -5751], 'crs': 'EPSG:32616', 'crs_transform': [10, 0, 600000, 0, -10, 4600020]}, {'id': 'B7_4', 'data_type': {'type': 'PixelType', 'precision': 'double', 'min': 0, 'max': 6.5535000000000005}, 'dimensions': [25869, 22930], 'origin': [-1719, -5751], 'crs': 'EPSG:32616', 'crs_transform': [10, 0, 600000, 0, -10, 4600020]}, {'id': 'B8A_4', 'data_type': {'type': 'PixelType', 'precision': 'double', 'min': 0, 'max': 6.5535000000000005}, 'dimensions': [25869, 22930], 'origin': [-1719, -5751], 'crs': 'EPSG:32616', 'crs_transform': [10, 0, 600000, 0, -10, 4600020]}, {'id': 'B11_4', 'data_type': {'type': 'PixelType', 'precision': 'double', 'min': 0, 'max': 6.5535000000000005}, 'dimensions': [25869, 22930], 'origin': [-1719, -5751], 'crs': 'EPSG:32616', 'crs_transform': [10, 0, 600000, 0, -10, 4600020]}, {'id': 'B12_4', 'data_type': {'type': 'PixelType', 'precision': 'double', 'min': 0, 'max': 6.5535000000000005}, 'dimensions': [25869, 22930], 'origin': [-1719, -5751], 'crs': 'EPSG:32616', 'crs_transform': [10, 0, 600000, 0, -10, 4600020]}, {'id': 'ndvi_4', 'data_type': {'type': 'PixelType', 'precision': 'float', 'min': -1, 'max': 1}, 'dimensions': [25869, 22930], 'origin': [-1719, -5751], 'crs': 'EPSG:32616', 'crs_transform': [10, 0, 600000, 0, -10, 4600020]}, {'id': 'mndwi_4', 'data_type': {'type': 'PixelType', 'precision': 'float', 'min': -1, 'max': 1}, 'dimensions': [25869, 22930], 'origin': [-1719, -5751], 'crs': 'EPSG:32616', 'crs_transform': [10, 0, 600000, 0, -10, 4600020]}, {'id': 'gndvi_4', 'data_type': {'type': 'PixelType', 'precision': 'float', 'min': -1, 'max': 1}, 'dimensions': [25869, 22930], 'origin': [-1719, -5751], 'crs': 'EPSG:32616', 'crs_transform': [10, 0, 600000, 0, -10, 4600020]}, {'id': 'B2_5', 'data_type': {'type': 'PixelType', 'precision': 'double', 'min': 0, 'max': 6.5535000000000005}, 'dimensions': [25869, 22930], 'origin': [-1719, -5751], 'crs': 'EPSG:32616', 'crs_transform': [10, 0, 600000, 0, -10, 4600020]}, {'id': 'B3_5', 'data_type': {'type': 'PixelType', 'precision': 'double', 'min': 0, 'max': 6.5535000000000005}, 'dimensions': [25869, 22930], 'origin': [-1719, -5751], 'crs': 'EPSG:32616', 'crs_transform': [10, 0, 600000, 0, -10, 4600020]}, {'id': 'B4_5', 'data_type': {'type': 'PixelType', 'precision': 'double', 'min': 0, 'max': 6.5535000000000005}, 'dimensions': [25869, 22930], 'origin': [-1719, -5751], 'crs': 'EPSG:32616', 'crs_transform': [10, 0, 600000, 0, -10, 4600020]}, {'id': 'B8_5', 'data_type': {'type': 'PixelType', 'precision': 'double', 'min': 0, 'max': 6.5535000000000005}, 'dimensions': [25869, 22930], 'origin': [-1719, -5751], 'crs': 'EPSG:32616', 'crs_transform': [10, 0, 600000, 0, -10, 4600020]}, {'id': 'B5_5', 'data_type': {'type': 'PixelType', 'precision': 'double', 'min': 0, 'max': 6.5535000000000005}, 'dimensions': [25869, 22930], 'origin': [-1719, -5751], 'crs': 'EPSG:32616', 'crs_transform': [10, 0, 600000, 0, -10, 4600020]}, {'id': 'B6_5', 'data_type': {'type': 'PixelType', 'precision': 'double', 'min': 0, 'max': 6.5535000000000005}, 'dimensions': [25869, 22930], 'origin': [-1719, -5751], 'crs': 'EPSG:32616', 'crs_transform': [10, 0, 600000, 0, -10, 4600020]}, {'id': 'B7_5', 'data_type': {'type': 'PixelType', 'precision': 'double', 'min': 0, 'max': 6.5535000000000005}, 'dimensions': [25869, 22930], 'origin': [-1719, -5751], 'crs': 'EPSG:32616', 'crs_transform': [10, 0, 600000, 0, -10, 4600020]}, {'id': 'B8A_5', 'data_type': {'type': 'PixelType', 'precision': 'double', 'min': 0, 'max': 6.5535000000000005}, 'dimensions': [25869, 22930], 'origin': [-1719, -5751], 'crs': 'EPSG:32616', 'crs_transform': [10, 0, 600000, 0, -10, 4600020]}, {'id': 'B11_5', 'data_type': {'type': 'PixelType', 'precision': 'double', 'min': 0, 'max': 6.5535000000000005}, 'dimensions': [25869, 22930], 'origin': [-1719, -5751], 'crs': 'EPSG:32616', 'crs_transform': [10, 0, 600000, 0, -10, 4600020]}, {'id': 'B12_5', 'data_type': {'type': 'PixelType', 'precision': 'double', 'min': 0, 'max': 6.5535000000000005}, 'dimensions': [25869, 22930], 'origin': [-1719, -5751], 'crs': 'EPSG:32616', 'crs_transform': [10, 0, 600000, 0, -10, 4600020]}, {'id': 'ndvi_5', 'data_type': {'type': 'PixelType', 'precision': 'float', 'min': -1, 'max': 1}, 'dimensions': [25869, 22930], 'origin': [-1719, -5751], 'crs': 'EPSG:32616', 'crs_transform': [10, 0, 600000, 0, -10, 4600020]}, {'id': 'mndwi_5', 'data_type': {'type': 'PixelType', 'precision': 'float', 'min': -1, 'max': 1}, 'dimensions': [25869, 22930], 'origin': [-1719, -5751], 'crs': 'EPSG:32616', 'crs_transform': [10, 0, 600000, 0, -10, 4600020]}, {'id': 'gndvi_5', 'data_type': {'type': 'PixelType', 'precision': 'float', 'min': -1, 'max': 1}, 'dimensions': [25869, 22930], 'origin': [-1719, -5751], 'crs': 'EPSG:32616', 'crs_transform': [10, 0, 600000, 0, -10, 4600020]}], 'properties': {'month': 'May', 'system:footprint': {'type': 'Polygon', 'coordinates': [[[-84.70947870462608, 40.64732007950524], [-84.20342096536827, 40.64732007950524], [-84.20342096536827, 40.89536512997029], [-84.70947870462608, 40.89536512997029], [-84.70947870462608, 40.64732007950524]]]}}}\n",
      "The following are the bands in the stacked composite: ['B2', 'B3', 'B4', 'B8', 'B5', 'B6', 'B7', 'B8A', 'B11', 'B12', 'ndvi', 'mndwi', 'gndvi', 'B2_1', 'B3_1', 'B4_1', 'B8_1', 'B5_1', 'B6_1', 'B7_1', 'B8A_1', 'B11_1', 'B12_1', 'ndvi_1', 'mndwi_1', 'gndvi_1', 'B2_2', 'B3_2', 'B4_2', 'B8_2', 'B5_2', 'B6_2', 'B7_2', 'B8A_2', 'B11_2', 'B12_2', 'ndvi_2', 'mndwi_2', 'gndvi_2', 'B2_3', 'B3_3', 'B4_3', 'B8_3', 'B5_3', 'B6_3', 'B7_3', 'B8A_3', 'B11_3', 'B12_3', 'ndvi_3', 'mndwi_3', 'gndvi_3', 'B2_4', 'B3_4', 'B4_4', 'B8_4', 'B5_4', 'B6_4', 'B7_4', 'B8A_4', 'B11_4', 'B12_4', 'ndvi_4', 'mndwi_4', 'gndvi_4', 'B2_5', 'B3_5', 'B4_5', 'B8_5', 'B5_5', 'B6_5', 'B7_5', 'B8A_5', 'B11_5', 'B12_5', 'ndvi_5', 'mndwi_5', 'gndvi_5']\n",
      "The CRS of the stacke composite is: EPSG:32616\n"
     ]
    }
   ],
   "source": [
    "# Load and process Sentinel-2 Images using the function\n",
    "dates = (\"2023-04-01\", \"2023-10-31\")\n",
    "\n",
    "s2_monthly_median = s2Process(dates, roi, 25)"
   ]
  },
  {
   "cell_type": "code",
   "execution_count": 15,
   "metadata": {},
   "outputs": [
    {
     "data": {
      "text/html": [
       "\n",
       "            <style>\n",
       "                .geemap-dark {\n",
       "                    --jp-widgets-color: white;\n",
       "                    --jp-widgets-label-color: white;\n",
       "                    --jp-ui-font-color1: white;\n",
       "                    --jp-layout-color2: #454545;\n",
       "                    background-color: #383838;\n",
       "                }\n",
       "\n",
       "                .geemap-dark .jupyter-button {\n",
       "                    --jp-layout-color3: #383838;\n",
       "                }\n",
       "\n",
       "                .geemap-colab {\n",
       "                    background-color: var(--colab-primary-surface-color, white);\n",
       "                }\n",
       "\n",
       "                .geemap-colab .jupyter-button {\n",
       "                    --jp-layout-color3: var(--colab-primary-surface-color, white);\n",
       "                }\n",
       "            </style>\n",
       "            "
      ],
      "text/plain": [
       "<IPython.core.display.HTML object>"
      ]
     },
     "metadata": {},
     "output_type": "display_data"
    }
   ],
   "source": [
    "# A large percentage of pixels was masked of the July Image Composite because of clouds\n",
    "s2_monthly_median = s2_monthly_median.select(\n",
    "    ['B2', 'B3', 'B4', 'B8', 'B5', 'B6', 'B7', 'B8A', 'B11', 'B12', 'ndvi', 'mndwi', 'gndvi', 'B2_1', 'B3_1', 'B4_1', 'B8_1', 'B5_1', 'B6_1', 'B7_1', 'B8A_1', 'B11_1', 'B12_1', 'ndvi_1', 'mndwi_1', 'gndvi_1', 'B2_3', 'B3_3', 'B4_3', 'B8_3', 'B5_3', 'B6_3', 'B7_3', 'B8A_3', 'B11_3', 'B12_3', 'ndvi_3', 'mndwi_3', 'gndvi_3', \n",
    "    'B2_4', 'B3_4', 'B4_4', 'B8_4', 'B5_4', 'B6_4', 'B7_4', 'B8A_4', 'B11_4', 'B12_4', 'ndvi_4', 'mndwi_4', 'gndvi_4', 'B2_5', 'B3_5', 'B4_5', 'B8_5', 'B5_5', 'B6_5', 'B7_5', 'B8A_5', 'B11_5', 'B12_5', 'ndvi_5', 'mndwi_5', 'gndvi_5']\n",
    ")"
   ]
  },
  {
   "cell_type": "code",
   "execution_count": 16,
   "metadata": {},
   "outputs": [
    {
     "data": {
      "text/html": [
       "\n",
       "            <style>\n",
       "                .geemap-dark {\n",
       "                    --jp-widgets-color: white;\n",
       "                    --jp-widgets-label-color: white;\n",
       "                    --jp-ui-font-color1: white;\n",
       "                    --jp-layout-color2: #454545;\n",
       "                    background-color: #383838;\n",
       "                }\n",
       "\n",
       "                .geemap-dark .jupyter-button {\n",
       "                    --jp-layout-color3: #383838;\n",
       "                }\n",
       "\n",
       "                .geemap-colab {\n",
       "                    background-color: var(--colab-primary-surface-color, white);\n",
       "                }\n",
       "\n",
       "                .geemap-colab .jupyter-button {\n",
       "                    --jp-layout-color3: var(--colab-primary-surface-color, white);\n",
       "                }\n",
       "            </style>\n",
       "            "
      ],
      "text/plain": [
       "<IPython.core.display.HTML object>"
      ]
     },
     "metadata": {},
     "output_type": "display_data"
    },
    {
     "data": {
      "application/vnd.jupyter.widget-view+json": {
       "model_id": "d71a22cbcd5449da99d2da276da52e88",
       "version_major": 2,
       "version_minor": 0
      },
      "text/plain": [
       "Map(center=[40.7959, -84.4795], controls=(WidgetControl(options=['position', 'transparent_bg'], widget=SearchD…"
      ]
     },
     "execution_count": 16,
     "metadata": {},
     "output_type": "execute_result"
    }
   ],
   "source": [
    "# Visualize the Sentinel-2 Median composite image in true colour\n",
    "\n",
    "viz_params_s2_rgb = {\n",
    "    \"min\": 0.0,\n",
    "    \"max\": 0.3,\n",
    "    \"bands\": [\"B4_4\", \"B3_4\", \"B2_4\"],\n",
    "    \"gamma\" : 0.9\n",
    "}\n",
    "\n",
    "rasterMap(s2_monthly_median, viz_params_s2_rgb, \"Sentinel-2 Median Composite\")"
   ]
  },
  {
   "cell_type": "markdown",
   "metadata": {},
   "source": [
    "### 4. Training and Testing Data Extraction"
   ]
  },
  {
   "cell_type": "markdown",
   "metadata": {},
   "source": [
    "**Training and Testing Samples were extracted from an existing Land cover Data (CDL) of 30m Resolution**"
   ]
  },
  {
   "cell_type": "code",
   "execution_count": 17,
   "metadata": {},
   "outputs": [
    {
     "data": {
      "text/html": [
       "\n",
       "            <style>\n",
       "                .geemap-dark {\n",
       "                    --jp-widgets-color: white;\n",
       "                    --jp-widgets-label-color: white;\n",
       "                    --jp-ui-font-color1: white;\n",
       "                    --jp-layout-color2: #454545;\n",
       "                    background-color: #383838;\n",
       "                }\n",
       "\n",
       "                .geemap-dark .jupyter-button {\n",
       "                    --jp-layout-color3: #383838;\n",
       "                }\n",
       "\n",
       "                .geemap-colab {\n",
       "                    background-color: var(--colab-primary-surface-color, white);\n",
       "                }\n",
       "\n",
       "                .geemap-colab .jupyter-button {\n",
       "                    --jp-layout-color3: var(--colab-primary-surface-color, white);\n",
       "                }\n",
       "            </style>\n",
       "            "
      ],
      "text/plain": [
       "<IPython.core.display.HTML object>"
      ]
     },
     "metadata": {},
     "output_type": "display_data"
    }
   ],
   "source": [
    "# Load the existing USDA NASS Cropland Data Layers (CDL) of 30m resolution\n",
    "cdl = (ee.ImageCollection(\"USDA/NASS/CDL\")\n",
    "                  .filter(ee.Filter.date(\"2023-01-01\", \"2023-12-31\"))\n",
    "                  .filterBounds(roi)\n",
    "                  .select(\"cropland\")\n",
    "                  .first())\n",
    "\n",
    "cdl_crop = cdl.clip(roi)"
   ]
  },
  {
   "cell_type": "code",
   "execution_count": 18,
   "metadata": {},
   "outputs": [
    {
     "data": {
      "text/html": [
       "\n",
       "            <style>\n",
       "                .geemap-dark {\n",
       "                    --jp-widgets-color: white;\n",
       "                    --jp-widgets-label-color: white;\n",
       "                    --jp-ui-font-color1: white;\n",
       "                    --jp-layout-color2: #454545;\n",
       "                    background-color: #383838;\n",
       "                }\n",
       "\n",
       "                .geemap-dark .jupyter-button {\n",
       "                    --jp-layout-color3: #383838;\n",
       "                }\n",
       "\n",
       "                .geemap-colab {\n",
       "                    background-color: var(--colab-primary-surface-color, white);\n",
       "                }\n",
       "\n",
       "                .geemap-colab .jupyter-button {\n",
       "                    --jp-layout-color3: var(--colab-primary-surface-color, white);\n",
       "                }\n",
       "            </style>\n",
       "            "
      ],
      "text/plain": [
       "<IPython.core.display.HTML object>"
      ]
     },
     "metadata": {},
     "output_type": "display_data"
    },
    {
     "data": {
      "application/vnd.jupyter.widget-view+json": {
       "model_id": "f1f78b4acbba416aa2cfb67656ddeefe",
       "version_major": 2,
       "version_minor": 0
      },
      "text/plain": [
       "Map(center=[40.7959, -84.4795], controls=(WidgetControl(options=['position', 'transparent_bg'], widget=SearchD…"
      ]
     },
     "execution_count": 18,
     "metadata": {},
     "output_type": "execute_result"
    }
   ],
   "source": [
    "# Visualize the CDL layer\n",
    "viz_params_cdl = {}\n",
    "\n",
    "rasterMap(cdl_crop, viz_params_cdl, \"Cropland Data Layer (30m)\")"
   ]
  },
  {
   "cell_type": "code",
   "execution_count": 19,
   "metadata": {},
   "outputs": [
    {
     "data": {
      "text/html": [
       "\n",
       "            <style>\n",
       "                .geemap-dark {\n",
       "                    --jp-widgets-color: white;\n",
       "                    --jp-widgets-label-color: white;\n",
       "                    --jp-ui-font-color1: white;\n",
       "                    --jp-layout-color2: #454545;\n",
       "                    background-color: #383838;\n",
       "                }\n",
       "\n",
       "                .geemap-dark .jupyter-button {\n",
       "                    --jp-layout-color3: #383838;\n",
       "                }\n",
       "\n",
       "                .geemap-colab {\n",
       "                    background-color: var(--colab-primary-surface-color, white);\n",
       "                }\n",
       "\n",
       "                .geemap-colab .jupyter-button {\n",
       "                    --jp-layout-color3: var(--colab-primary-surface-color, white);\n",
       "                }\n",
       "            </style>\n",
       "            "
      ],
      "text/plain": [
       "<IPython.core.display.HTML object>"
      ]
     },
     "metadata": {},
     "output_type": "display_data"
    },
    {
     "data": {
      "text/html": [
       "<div><style>:root {\n",
       "  --font-color-primary: var(--jp-content-font-color0, rgba(0, 0, 0, 1));\n",
       "  --font-color-secondary: var(--jp-content-font-color2, rgba(0, 0, 0, 0.6));\n",
       "  --font-color-accent: rgba(123, 31, 162, 1);\n",
       "  --border-color: var(--jp-border-color2, #e0e0e0);\n",
       "  --background-color: var(--jp-layout-color0, white);\n",
       "  --background-color-row-even: var(--jp-layout-color1, white);\n",
       "  --background-color-row-odd: var(--jp-layout-color2, #eeeeee);\n",
       "}\n",
       "\n",
       "html[theme=\"dark\"],\n",
       "body[data-theme=\"dark\"],\n",
       "body.vscode-dark {\n",
       "  --font-color-primary: rgba(255, 255, 255, 1);\n",
       "  --font-color-secondary: rgba(255, 255, 255, 0.6);\n",
       "  --font-color-accent: rgb(173, 132, 190);\n",
       "  --border-color: #2e2e2e;\n",
       "  --background-color: #111111;\n",
       "  --background-color-row-even: #111111;\n",
       "  --background-color-row-odd: #313131;\n",
       "}\n",
       "\n",
       ".ee {\n",
       "  padding: 1em;\n",
       "  line-height: 1.5em;\n",
       "  min-width: 300px;\n",
       "  max-width: 1200px;\n",
       "  overflow-y: scroll;\n",
       "  max-height: 600px;\n",
       "  border: 1px solid var(--border-color);\n",
       "  font-family: monospace;\n",
       "}\n",
       "\n",
       ".ee li {\n",
       "  list-style-type: none;\n",
       "}\n",
       "\n",
       ".ee ul {\n",
       "  padding-left: 1.5em !important;\n",
       "  margin: 0;\n",
       "}\n",
       "\n",
       ".ee > ul {\n",
       "  padding-left: 0 !important;\n",
       "}\n",
       "\n",
       ".ee-open,\n",
       ".ee-shut {\n",
       "  color: var(--font-color-secondary);\n",
       "  cursor: pointer;\n",
       "  margin: 0;\n",
       "}\n",
       "\n",
       ".ee-open:hover,\n",
       ".ee-shut:hover {\n",
       "  color: var(--font-color-primary);\n",
       "}\n",
       "\n",
       ".ee-k {\n",
       "  color: var(--font-color-accent);\n",
       "  margin-right: 6px;\n",
       "}\n",
       "\n",
       ".ee-v {\n",
       "  color: var(--font-color-primary);\n",
       "}\n",
       "\n",
       ".ee-toggle {\n",
       "  display: none;\n",
       "}\n",
       "\n",
       ".ee-shut + ul {\n",
       "  display: none;\n",
       "}\n",
       "\n",
       ".ee-open + ul {\n",
       "  display: block;\n",
       "}\n",
       "\n",
       ".ee-shut::before {\n",
       "  display: inline-block;\n",
       "  content: \"▼\";\n",
       "  margin-right: 6px;\n",
       "  transform: rotate(-90deg);\n",
       "  transition: transform 0.2s;\n",
       "}\n",
       "\n",
       ".ee-open::before {\n",
       "  transform: rotate(0deg);\n",
       "  display: inline-block;\n",
       "  content: \"▼\";\n",
       "  margin-right: 6px;\n",
       "  transition: transform 0.2s;\n",
       "}\n",
       "</style><div class='ee'><ul><li><label class='ee-shut'>['cropland']<input type='checkbox' class='ee-toggle'></label><ul><li><span class='ee-k'>0:</span><span class='ee-v'>cropland</span></li></ul></li></ul></div><script>function toggleHeader() {\n",
       "    const parent = this.parentElement;\n",
       "    parent.className = parent.className === \"ee-open\" ? \"ee-shut\" : \"ee-open\";\n",
       "}\n",
       "\n",
       "for (let c of document.getElementsByClassName(\"ee-toggle\")) {\n",
       "    c.onclick = toggleHeader;\n",
       "}</script></div>"
      ],
      "text/plain": [
       "<ee.ee_list.List at 0x270aa1f7830>"
      ]
     },
     "execution_count": 19,
     "metadata": {},
     "output_type": "execute_result"
    }
   ],
   "source": [
    "# Check the bands in the CDL (30m)\n",
    "cdl_crop.bandNames()"
   ]
  },
  {
   "cell_type": "code",
   "execution_count": 20,
   "metadata": {},
   "outputs": [
    {
     "data": {
      "text/html": [
       "\n",
       "            <style>\n",
       "                .geemap-dark {\n",
       "                    --jp-widgets-color: white;\n",
       "                    --jp-widgets-label-color: white;\n",
       "                    --jp-ui-font-color1: white;\n",
       "                    --jp-layout-color2: #454545;\n",
       "                    background-color: #383838;\n",
       "                }\n",
       "\n",
       "                .geemap-dark .jupyter-button {\n",
       "                    --jp-layout-color3: #383838;\n",
       "                }\n",
       "\n",
       "                .geemap-colab {\n",
       "                    background-color: var(--colab-primary-surface-color, white);\n",
       "                }\n",
       "\n",
       "                .geemap-colab .jupyter-button {\n",
       "                    --jp-layout-color3: var(--colab-primary-surface-color, white);\n",
       "                }\n",
       "            </style>\n",
       "            "
      ],
      "text/plain": [
       "<IPython.core.display.HTML object>"
      ]
     },
     "metadata": {},
     "output_type": "display_data"
    },
    {
     "name": "stdout",
     "output_type": "stream",
     "text": [
      "dict_keys(['cropland_class_names', 'cropland_class_palette', 'cropland_class_values', 'cultivated_class_names', 'cultivated_class_palette', 'cultivated_class_values'])\n"
     ]
    }
   ],
   "source": [
    "# Get the properties of the CDL (30m)\n",
    "cdl_info = cdl_crop.toDictionary().getInfo()\n",
    "print(cdl_info.keys())"
   ]
  },
  {
   "cell_type": "code",
   "execution_count": 21,
   "metadata": {},
   "outputs": [
    {
     "data": {
      "text/html": [
       "\n",
       "            <style>\n",
       "                .geemap-dark {\n",
       "                    --jp-widgets-color: white;\n",
       "                    --jp-widgets-label-color: white;\n",
       "                    --jp-ui-font-color1: white;\n",
       "                    --jp-layout-color2: #454545;\n",
       "                    background-color: #383838;\n",
       "                }\n",
       "\n",
       "                .geemap-dark .jupyter-button {\n",
       "                    --jp-layout-color3: #383838;\n",
       "                }\n",
       "\n",
       "                .geemap-colab {\n",
       "                    background-color: var(--colab-primary-surface-color, white);\n",
       "                }\n",
       "\n",
       "                .geemap-colab .jupyter-button {\n",
       "                    --jp-layout-color3: var(--colab-primary-surface-color, white);\n",
       "                }\n",
       "            </style>\n",
       "            "
      ],
      "text/plain": [
       "<IPython.core.display.HTML object>"
      ]
     },
     "metadata": {},
     "output_type": "display_data"
    },
    {
     "data": {
      "text/plain": [
       "135"
      ]
     },
     "execution_count": 21,
     "metadata": {},
     "output_type": "execute_result"
    }
   ],
   "source": [
    "# Get the number of the unique crop types/landcover classes\n",
    "len(cdl_info[\"cropland_class_values\"])"
   ]
  },
  {
   "cell_type": "code",
   "execution_count": 22,
   "metadata": {},
   "outputs": [
    {
     "data": {
      "text/html": [
       "\n",
       "            <style>\n",
       "                .geemap-dark {\n",
       "                    --jp-widgets-color: white;\n",
       "                    --jp-widgets-label-color: white;\n",
       "                    --jp-ui-font-color1: white;\n",
       "                    --jp-layout-color2: #454545;\n",
       "                    background-color: #383838;\n",
       "                }\n",
       "\n",
       "                .geemap-dark .jupyter-button {\n",
       "                    --jp-layout-color3: #383838;\n",
       "                }\n",
       "\n",
       "                .geemap-colab {\n",
       "                    background-color: var(--colab-primary-surface-color, white);\n",
       "                }\n",
       "\n",
       "                .geemap-colab .jupyter-button {\n",
       "                    --jp-layout-color3: var(--colab-primary-surface-color, white);\n",
       "                }\n",
       "            </style>\n",
       "            "
      ],
      "text/plain": [
       "<IPython.core.display.HTML object>"
      ]
     },
     "metadata": {},
     "output_type": "display_data"
    },
    {
     "name": "stdout",
     "output_type": "stream",
     "text": [
      "{'Background': 0, 'Corn': 1, 'Cotton': 2, 'Rice': 3, 'Sorghum': 4, 'Soybeans': 5, 'Sunflower': 6, 'Peanuts': 10, 'Tobacco': 11, 'Sweet Corn': 12, 'Pop or Orn Corn': 13, 'Mint': 14, 'Barley': 21, 'Durum Wheat': 22, 'Spring Wheat': 23, 'Winter Wheat': 24, 'Other Small Grains': 25, 'Dbl Crop WinWht/Soybeans': 26, 'Rye': 27, 'Oats': 28, 'Millet': 29, 'Speltz': 30, 'Canola': 31, 'Flaxseed': 32, 'Safflower': 33, 'Rape Seed': 34, 'Mustard': 35, 'Alfalfa': 36, 'Other Hay/Non Alfalfa': 37, 'Camelina': 38, 'Buckwheat': 39, 'Sugarbeets': 41, 'Dry Beans': 42, 'Potatoes': 43, 'Other Crops': 44, 'Sugarcane': 45, 'Sweet Potatoes': 46, 'Misc Vegs &amp; Fruits': 47, 'Watermelons': 48, 'Onions': 49, 'Cucumbers': 50, 'Chick Peas': 51, 'Lentils': 52, 'Peas': 53, 'Tomatoes': 54, 'Caneberries': 55, 'Hops': 56, 'Herbs': 57, 'Clover/Wildflowers': 58, 'Sod/Grass Seed': 59, 'Switchgrass': 60, 'Fallow/Idle Cropland': 61, 'Forest': 63, 'Shrubland': 152, 'Barren': 131, 'Cherries': 66, 'Peaches': 67, 'Apples': 68, 'Grapes': 69, 'Christmas Trees': 70, 'Other Tree Crops': 71, 'Citrus': 72, 'Pecans': 74, 'Almonds': 75, 'Walnuts': 76, 'Pears': 77, 'Clouds/No Data': 81, 'Developed': 82, 'Water': 83, 'Wetlands': 87, 'Nonag/Undefined': 88, 'Aquaculture': 92, 'Open Water': 111, 'Perennial Ice/Snow': 112, 'Developed/Open Space': 121, 'Developed/Low Intensity': 122, 'Developed/Med Intensity': 123, 'Developed/High Intensity': 124, 'Deciduous Forest': 141, 'Evergreen Forest': 142, 'Mixed Forest': 143, 'Grassland/Pasture': 176, 'Woody Wetlands': 190, 'Herbaceous Wetlands': 195, 'Pistachios': 204, 'Triticale': 205, 'Carrots': 206, 'Asparagus': 207, 'Garlic': 208, 'Cantaloupes': 209, 'Prunes': 210, 'Olives': 211, 'Oranges': 212, 'Honeydew Melons': 213, 'Broccoli': 214, 'Peppers': 216, 'Pomegranates': 217, 'Nectarines': 218, 'Greens': 219, 'Plums': 220, 'Strawberries': 221, 'Squash': 222, 'Apricots': 223, 'Vetch': 224, 'Dbl Crop WinWht/Corn': 225, 'Dbl Crop Oats/Corn': 226, 'Lettuce': 227, 'Pumpkins': 229, 'Dbl Crop Lettuce/Durum Wht': 230, 'Dbl Crop Lettuce/Cantaloupe': 231, 'Dbl Crop Lettuce/Cotton': 232, 'Dbl Crop Lettuce/Barley': 233, 'Dbl Crop Durum Wht/Sorghum': 234, 'Dbl Crop Barley/Sorghum': 235, 'Dbl Crop WinWht/Sorghum': 236, 'Dbl Crop Barley/Corn': 237, 'Dbl Crop WinWht/Cotton': 238, 'Dbl Crop Soybeans/Cotton': 239, 'Dbl Crop Soybeans/Oats': 240, 'Dbl Crop Corn/Soybeans': 241, 'Blueberries': 242, 'Cabbage': 243, 'Cauliflower': 244, 'Celery': 245, 'Radishes': 246, 'Turnips': 247, 'Eggplants': 248, 'Gourds': 249, 'Cranberries': 250, '': 253, 'Dbl Crop Barley/Soybeans': 254}\n"
     ]
    }
   ],
   "source": [
    "# Select just the 'cropland_class_names', 'cropland_class_palette', and 'cropland_class_values' keys\n",
    "cdl_name = cdl_info[\"cropland_class_names\"]\n",
    "cdl_value = cdl_info[\"cropland_class_values\"]\n",
    "cdl_palette = cdl_info[\"cropland_class_palette\"]\n",
    "\n",
    "# Create a dictionary that combine the name and values/id\n",
    "cdl_name_value = dict(zip(cdl_name, cdl_value))\n",
    "\n",
    "print(cdl_name_value)"
   ]
  },
  {
   "cell_type": "code",
   "execution_count": 23,
   "metadata": {},
   "outputs": [
    {
     "data": {
      "text/html": [
       "\n",
       "            <style>\n",
       "                .geemap-dark {\n",
       "                    --jp-widgets-color: white;\n",
       "                    --jp-widgets-label-color: white;\n",
       "                    --jp-ui-font-color1: white;\n",
       "                    --jp-layout-color2: #454545;\n",
       "                    background-color: #383838;\n",
       "                }\n",
       "\n",
       "                .geemap-dark .jupyter-button {\n",
       "                    --jp-layout-color3: #383838;\n",
       "                }\n",
       "\n",
       "                .geemap-colab {\n",
       "                    background-color: var(--colab-primary-surface-color, white);\n",
       "                }\n",
       "\n",
       "                .geemap-colab .jupyter-button {\n",
       "                    --jp-layout-color3: var(--colab-primary-surface-color, white);\n",
       "                }\n",
       "            </style>\n",
       "            "
      ],
      "text/plain": [
       "<IPython.core.display.HTML object>"
      ]
     },
     "metadata": {},
     "output_type": "display_data"
    },
    {
     "name": "stdout",
     "output_type": "stream",
     "text": [
      "{'cropland': {'1': 377549.93725490215, '111': 9083.58431372549, '12': 43, '121': 49615.690196078445, '122': 42252.19215686273, '123': 17837.513725490197, '124': 5258.396078431373, '13': 19800.619607843135, '131': 929.4117647058823, '141': 76386.49803921569, '142': 79.7843137254902, '143': 138, '152': 21, '176': 45277.6862745098, '190': 9391.811764705883, '195': 3004.8196078431374, '205': 7, '21': 1, '225': 12, '229': 10, '236': 5, '24': 53332.192156862744, '254': 2, '26': 3442.2666666666664, '27': 380, '28': 163.01960784313727, '29': 24, '36': 10039.04705882353, '37': 6493.666666666667, '39': 1, '4': 588, '42': 6, '43': 6, '5': 575984.7137254899, '54': 150, '58': 180, '59': 8, '6': 4, '61': 1, '68': 4, '70': 2}}\n"
     ]
    }
   ],
   "source": [
    "# Get unique crop class values and the number of pixels for each class from the CDL (30m)\n",
    "crop_class_pixel_roi = cdl_crop.reduceRegion(\n",
    "    reducer=ee.Reducer.frequencyHistogram(),\n",
    "    geometry=roi,\n",
    "    scale=30,\n",
    "    maxPixels=1e7,  \n",
    "    bestEffort=True \n",
    ").getInfo()\n",
    "\n",
    "print(crop_class_pixel_roi)"
   ]
  },
  {
   "cell_type": "code",
   "execution_count": 24,
   "metadata": {},
   "outputs": [
    {
     "data": {
      "text/html": [
       "\n",
       "            <style>\n",
       "                .geemap-dark {\n",
       "                    --jp-widgets-color: white;\n",
       "                    --jp-widgets-label-color: white;\n",
       "                    --jp-ui-font-color1: white;\n",
       "                    --jp-layout-color2: #454545;\n",
       "                    background-color: #383838;\n",
       "                }\n",
       "\n",
       "                .geemap-dark .jupyter-button {\n",
       "                    --jp-layout-color3: #383838;\n",
       "                }\n",
       "\n",
       "                .geemap-colab {\n",
       "                    background-color: var(--colab-primary-surface-color, white);\n",
       "                }\n",
       "\n",
       "                .geemap-colab .jupyter-button {\n",
       "                    --jp-layout-color3: var(--colab-primary-surface-color, white);\n",
       "                }\n",
       "            </style>\n",
       "            "
      ],
      "text/plain": [
       "<IPython.core.display.HTML object>"
      ]
     },
     "metadata": {},
     "output_type": "display_data"
    },
    {
     "name": "stdout",
     "output_type": "stream",
     "text": [
      "The CRS of the Crop Data Layer  is: EPSG:5070\n",
      "The CRS of the Sentinel-2 monthly median composite is:EPSG:32616\n"
     ]
    }
   ],
   "source": [
    "# Check the CRS of the cdl_crop \n",
    "cdl_crop_proj = cdl_crop.select(0).projection()\n",
    "cdl_crop_crs = cdl_crop_proj.crs().getInfo()\n",
    "print(f\"The CRS of the Crop Data Layer  is: {cdl_crop_crs}\")\n",
    "\n",
    "# Check the CRS of the Sentinel-2 Monthly Median Composite\n",
    "s2_median_proj = s2_monthly_median.select(0).projection()\n",
    "s2_median_crs = s2_median_proj.crs().getInfo()\n",
    "print(f\"The CRS of the Sentinel-2 monthly median composite is:{s2_median_crs}\")"
   ]
  },
  {
   "cell_type": "code",
   "execution_count": 25,
   "metadata": {},
   "outputs": [
    {
     "data": {
      "text/html": [
       "\n",
       "            <style>\n",
       "                .geemap-dark {\n",
       "                    --jp-widgets-color: white;\n",
       "                    --jp-widgets-label-color: white;\n",
       "                    --jp-ui-font-color1: white;\n",
       "                    --jp-layout-color2: #454545;\n",
       "                    background-color: #383838;\n",
       "                }\n",
       "\n",
       "                .geemap-dark .jupyter-button {\n",
       "                    --jp-layout-color3: #383838;\n",
       "                }\n",
       "\n",
       "                .geemap-colab {\n",
       "                    background-color: var(--colab-primary-surface-color, white);\n",
       "                }\n",
       "\n",
       "                .geemap-colab .jupyter-button {\n",
       "                    --jp-layout-color3: var(--colab-primary-surface-color, white);\n",
       "                }\n",
       "            </style>\n",
       "            "
      ],
      "text/plain": [
       "<IPython.core.display.HTML object>"
      ]
     },
     "metadata": {},
     "output_type": "display_data"
    }
   ],
   "source": [
    "# Define grid size and projection\n",
    "grid_scale = 10\n",
    "grid_proj = ee.Projection(\"EPSG:5070\").atScale(grid_scale)"
   ]
  },
  {
   "cell_type": "code",
   "execution_count": 26,
   "metadata": {},
   "outputs": [
    {
     "data": {
      "text/html": [
       "\n",
       "            <style>\n",
       "                .geemap-dark {\n",
       "                    --jp-widgets-color: white;\n",
       "                    --jp-widgets-label-color: white;\n",
       "                    --jp-ui-font-color1: white;\n",
       "                    --jp-layout-color2: #454545;\n",
       "                    background-color: #383838;\n",
       "                }\n",
       "\n",
       "                .geemap-dark .jupyter-button {\n",
       "                    --jp-layout-color3: #383838;\n",
       "                }\n",
       "\n",
       "                .geemap-colab {\n",
       "                    background-color: var(--colab-primary-surface-color, white);\n",
       "                }\n",
       "\n",
       "                .geemap-colab .jupyter-button {\n",
       "                    --jp-layout-color3: var(--colab-primary-surface-color, white);\n",
       "                }\n",
       "            </style>\n",
       "            "
      ],
      "text/plain": [
       "<IPython.core.display.HTML object>"
      ]
     },
     "metadata": {},
     "output_type": "display_data"
    },
    {
     "name": "stdout",
     "output_type": "stream",
     "text": [
      "The CRS of the Reprojected S-2 monthly median composite is:EPSG:5070\n"
     ]
    }
   ],
   "source": [
    "# Reproject the Sentinel-2 Monthly Median Composite\n",
    "s2_monthly_median = s2_monthly_median.reproject(\n",
    "                    crs = grid_proj\n",
    "                    )\n",
    "\n",
    "# Re-check the CRS of the Sentinel-2 Monthly Median Composite\n",
    "s2_median_proj = s2_monthly_median.select(0).projection()\n",
    "s2_median_crs = s2_median_proj.crs().getInfo()\n",
    "print(f\"The CRS of the Reprojected S-2 monthly median composite is:{s2_median_crs}\")"
   ]
  },
  {
   "cell_type": "code",
   "execution_count": 27,
   "metadata": {},
   "outputs": [
    {
     "data": {
      "text/html": [
       "\n",
       "            <style>\n",
       "                .geemap-dark {\n",
       "                    --jp-widgets-color: white;\n",
       "                    --jp-widgets-label-color: white;\n",
       "                    --jp-ui-font-color1: white;\n",
       "                    --jp-layout-color2: #454545;\n",
       "                    background-color: #383838;\n",
       "                }\n",
       "\n",
       "                .geemap-dark .jupyter-button {\n",
       "                    --jp-layout-color3: #383838;\n",
       "                }\n",
       "\n",
       "                .geemap-colab {\n",
       "                    background-color: var(--colab-primary-surface-color, white);\n",
       "                }\n",
       "\n",
       "                .geemap-colab .jupyter-button {\n",
       "                    --jp-layout-color3: var(--colab-primary-surface-color, white);\n",
       "                }\n",
       "            </style>\n",
       "            "
      ],
      "text/plain": [
       "<IPython.core.display.HTML object>"
      ]
     },
     "metadata": {},
     "output_type": "display_data"
    }
   ],
   "source": [
    "# Aggregate the cdl_crop to the same grid (10m) as the s2_composite and take the values of the highest occuring class\n",
    "cdl_crop_resampled = cdl_crop.reduceResolution(\n",
    "    reducer = ee.Reducer.mode(),\n",
    "    maxPixels = 1024\n",
    ").reproject(\n",
    "    crs = grid_proj\n",
    ")"
   ]
  },
  {
   "cell_type": "code",
   "execution_count": 28,
   "metadata": {},
   "outputs": [
    {
     "data": {
      "text/html": [
       "\n",
       "            <style>\n",
       "                .geemap-dark {\n",
       "                    --jp-widgets-color: white;\n",
       "                    --jp-widgets-label-color: white;\n",
       "                    --jp-ui-font-color1: white;\n",
       "                    --jp-layout-color2: #454545;\n",
       "                    background-color: #383838;\n",
       "                }\n",
       "\n",
       "                .geemap-dark .jupyter-button {\n",
       "                    --jp-layout-color3: #383838;\n",
       "                }\n",
       "\n",
       "                .geemap-colab {\n",
       "                    background-color: var(--colab-primary-surface-color, white);\n",
       "                }\n",
       "\n",
       "                .geemap-colab .jupyter-button {\n",
       "                    --jp-layout-color3: var(--colab-primary-surface-color, white);\n",
       "                }\n",
       "            </style>\n",
       "            "
      ],
      "text/plain": [
       "<IPython.core.display.HTML object>"
      ]
     },
     "metadata": {},
     "output_type": "display_data"
    },
    {
     "name": "stdout",
     "output_type": "stream",
     "text": [
      "The spatial resolution of the resampled CDL is: 10 meters\n"
     ]
    }
   ],
   "source": [
    "# Check the spatial resolution of the resampled cdl_crop\n",
    "cdl_crop_resampled_scale = cdl_crop_resampled.projection().nominalScale().getInfo()\n",
    "print(f\"The spatial resolution of the resampled CDL is: {cdl_crop_resampled_scale} meters\")"
   ]
  },
  {
   "cell_type": "code",
   "execution_count": 29,
   "metadata": {},
   "outputs": [
    {
     "data": {
      "text/html": [
       "\n",
       "            <style>\n",
       "                .geemap-dark {\n",
       "                    --jp-widgets-color: white;\n",
       "                    --jp-widgets-label-color: white;\n",
       "                    --jp-ui-font-color1: white;\n",
       "                    --jp-layout-color2: #454545;\n",
       "                    background-color: #383838;\n",
       "                }\n",
       "\n",
       "                .geemap-dark .jupyter-button {\n",
       "                    --jp-layout-color3: #383838;\n",
       "                }\n",
       "\n",
       "                .geemap-colab {\n",
       "                    background-color: var(--colab-primary-surface-color, white);\n",
       "                }\n",
       "\n",
       "                .geemap-colab .jupyter-button {\n",
       "                    --jp-layout-color3: var(--colab-primary-surface-color, white);\n",
       "                }\n",
       "            </style>\n",
       "            "
      ],
      "text/plain": [
       "<IPython.core.display.HTML object>"
      ]
     },
     "metadata": {},
     "output_type": "display_data"
    },
    {
     "data": {
      "application/vnd.jupyter.widget-view+json": {
       "model_id": "36b3a354852a45e28f556df356b9630f",
       "version_major": 2,
       "version_minor": 0
      },
      "text/plain": [
       "Map(center=[40.7959, -84.4795], controls=(WidgetControl(options=['position', 'transparent_bg'], widget=SearchD…"
      ]
     },
     "execution_count": 29,
     "metadata": {},
     "output_type": "execute_result"
    }
   ],
   "source": [
    "# Visualize the resampled CDL (10m)\n",
    "rasterMap(cdl_crop_resampled, viz_params_cdl, \"Cropland Data Layers (Resampled)\")"
   ]
  },
  {
   "cell_type": "code",
   "execution_count": 30,
   "metadata": {},
   "outputs": [
    {
     "data": {
      "text/html": [
       "\n",
       "            <style>\n",
       "                .geemap-dark {\n",
       "                    --jp-widgets-color: white;\n",
       "                    --jp-widgets-label-color: white;\n",
       "                    --jp-ui-font-color1: white;\n",
       "                    --jp-layout-color2: #454545;\n",
       "                    background-color: #383838;\n",
       "                }\n",
       "\n",
       "                .geemap-dark .jupyter-button {\n",
       "                    --jp-layout-color3: #383838;\n",
       "                }\n",
       "\n",
       "                .geemap-colab {\n",
       "                    background-color: var(--colab-primary-surface-color, white);\n",
       "                }\n",
       "\n",
       "                .geemap-colab .jupyter-button {\n",
       "                    --jp-layout-color3: var(--colab-primary-surface-color, white);\n",
       "                }\n",
       "            </style>\n",
       "            "
      ],
      "text/plain": [
       "<IPython.core.display.HTML object>"
      ]
     },
     "metadata": {},
     "output_type": "display_data"
    },
    {
     "name": "stdout",
     "output_type": "stream",
     "text": [
      "{'cropland': {'1': 2890108.9568627463, '111': 69556.6, '12': 322, '121': 376345.6078431371, '122': 320591.2823529411, '123': 133322.10196078432, '124': 39601.458823529414, '13': 151527.9568627451, '131': 6896.211764705882, '141': 586958.8, '142': 571.9450980392157, '143': 970, '152': 132, '176': 343392.81176470587, '190': 70047.94509803921, '195': 22476.827450980392, '205': 52, '21': 8, '225': 81, '229': 72, '236': 40, '24': 408583.22745098016, '254': 16, '26': 26189.75294117647, '27': 2907.6235294117646, '28': 1209.678431372549, '29': 183, '36': 75789.4431372549, '37': 47881.0431372549, '39': 6, '4': 4507, '42': 52, '43': 38, '5': 4411891.819607846, '54': 1139, '58': 1292, '59': 58, '6': 30, '61': 5, '68': 33, '70': 12}}\n"
     ]
    }
   ],
   "source": [
    "# Get unique crop class values and the number of pixels for each class from the CDL (30m)\n",
    "crop_class_pixel_roi = cdl_crop_resampled.reduceRegion(\n",
    "    reducer=ee.Reducer.frequencyHistogram(),\n",
    "    geometry=roi,\n",
    "    scale=10,\n",
    "    maxPixels=1e7,  \n",
    "    bestEffort=True \n",
    ").getInfo()\n",
    "\n",
    "print(crop_class_pixel_roi)"
   ]
  },
  {
   "cell_type": "code",
   "execution_count": 31,
   "metadata": {},
   "outputs": [
    {
     "data": {
      "text/html": [
       "\n",
       "            <style>\n",
       "                .geemap-dark {\n",
       "                    --jp-widgets-color: white;\n",
       "                    --jp-widgets-label-color: white;\n",
       "                    --jp-ui-font-color1: white;\n",
       "                    --jp-layout-color2: #454545;\n",
       "                    background-color: #383838;\n",
       "                }\n",
       "\n",
       "                .geemap-dark .jupyter-button {\n",
       "                    --jp-layout-color3: #383838;\n",
       "                }\n",
       "\n",
       "                .geemap-colab {\n",
       "                    background-color: var(--colab-primary-surface-color, white);\n",
       "                }\n",
       "\n",
       "                .geemap-colab .jupyter-button {\n",
       "                    --jp-layout-color3: var(--colab-primary-surface-color, white);\n",
       "                }\n",
       "            </style>\n",
       "            "
      ],
      "text/plain": [
       "<IPython.core.display.HTML object>"
      ]
     },
     "metadata": {},
     "output_type": "display_data"
    },
    {
     "name": "stdout",
     "output_type": "stream",
     "text": [
      "[  1   5  13  24  26  36  37 111 121 122 123 124 141 176 190 195]\n"
     ]
    }
   ],
   "source": [
    "# Select the classes with the considerable number of pixels (majority classes) from the Resampled CDL\n",
    "unique_crop_class_roi = []\n",
    "\n",
    "for label, pixels in crop_class_pixel_roi[\"cropland\"].items():\n",
    "    if pixels >  26189:\n",
    "    #if pixels >   47881:\n",
    "        unique_crop_class_roi.append(label)\n",
    "        unique_crop_class_roi = list(map(int, unique_crop_class_roi))\n",
    "\n",
    "# I added this class separately\n",
    "unique_crop_class_roi.append(195)\n",
    "print(np.sort(unique_crop_class_roi))"
   ]
  },
  {
   "cell_type": "code",
   "execution_count": 32,
   "metadata": {},
   "outputs": [
    {
     "data": {
      "text/html": [
       "\n",
       "            <style>\n",
       "                .geemap-dark {\n",
       "                    --jp-widgets-color: white;\n",
       "                    --jp-widgets-label-color: white;\n",
       "                    --jp-ui-font-color1: white;\n",
       "                    --jp-layout-color2: #454545;\n",
       "                    background-color: #383838;\n",
       "                }\n",
       "\n",
       "                .geemap-dark .jupyter-button {\n",
       "                    --jp-layout-color3: #383838;\n",
       "                }\n",
       "\n",
       "                .geemap-colab {\n",
       "                    background-color: var(--colab-primary-surface-color, white);\n",
       "                }\n",
       "\n",
       "                .geemap-colab .jupyter-button {\n",
       "                    --jp-layout-color3: var(--colab-primary-surface-color, white);\n",
       "                }\n",
       "            </style>\n",
       "            "
      ],
      "text/plain": [
       "<IPython.core.display.HTML object>"
      ]
     },
     "metadata": {},
     "output_type": "display_data"
    }
   ],
   "source": [
    "# Select grids for the following major crop classes/ Filter major crop class\n",
    "cdl_crop_masked = (cdl_crop_resampled.eq(1)\n",
    "                 .Or(cdl_crop_resampled.eq(5))\n",
    "                 .Or(cdl_crop_resampled.eq(13))\n",
    "                 .Or(cdl_crop_resampled.eq(24))\n",
    "                 .Or(cdl_crop_resampled.eq(26))\n",
    "                 .Or(cdl_crop_resampled.eq(36))\n",
    "                 .Or(cdl_crop_resampled.eq(37))\n",
    "                 .Or(cdl_crop_resampled.eq(111))\n",
    "                 .Or(cdl_crop_resampled.eq(121))\n",
    "                 .Or(cdl_crop_resampled.eq(122))\n",
    "                 .Or(cdl_crop_resampled.eq(123))\n",
    "                 .Or(cdl_crop_resampled.eq(124))\n",
    "                 .Or(cdl_crop_resampled.eq(141))\n",
    "                 .Or(cdl_crop_resampled.eq(176))\n",
    "                 .Or(cdl_crop_resampled.eq(190))\n",
    "                 .Or(cdl_crop_resampled.eq(195))\n",
    "                 )"
   ]
  },
  {
   "cell_type": "code",
   "execution_count": 33,
   "metadata": {},
   "outputs": [
    {
     "data": {
      "text/html": [
       "\n",
       "            <style>\n",
       "                .geemap-dark {\n",
       "                    --jp-widgets-color: white;\n",
       "                    --jp-widgets-label-color: white;\n",
       "                    --jp-ui-font-color1: white;\n",
       "                    --jp-layout-color2: #454545;\n",
       "                    background-color: #383838;\n",
       "                }\n",
       "\n",
       "                .geemap-dark .jupyter-button {\n",
       "                    --jp-layout-color3: #383838;\n",
       "                }\n",
       "\n",
       "                .geemap-colab {\n",
       "                    background-color: var(--colab-primary-surface-color, white);\n",
       "                }\n",
       "\n",
       "                .geemap-colab .jupyter-button {\n",
       "                    --jp-layout-color3: var(--colab-primary-surface-color, white);\n",
       "                }\n",
       "            </style>\n",
       "            "
      ],
      "text/plain": [
       "<IPython.core.display.HTML object>"
      ]
     },
     "metadata": {},
     "output_type": "display_data"
    }
   ],
   "source": [
    "# Create a mask of the pixels with the major landcover/crop type alone\n",
    "cdl_crop_resampled_masked = cdl_crop_resampled.updateMask(cdl_crop_masked)"
   ]
  },
  {
   "cell_type": "code",
   "execution_count": 34,
   "metadata": {},
   "outputs": [
    {
     "data": {
      "text/html": [
       "\n",
       "            <style>\n",
       "                .geemap-dark {\n",
       "                    --jp-widgets-color: white;\n",
       "                    --jp-widgets-label-color: white;\n",
       "                    --jp-ui-font-color1: white;\n",
       "                    --jp-layout-color2: #454545;\n",
       "                    background-color: #383838;\n",
       "                }\n",
       "\n",
       "                .geemap-dark .jupyter-button {\n",
       "                    --jp-layout-color3: #383838;\n",
       "                }\n",
       "\n",
       "                .geemap-colab {\n",
       "                    background-color: var(--colab-primary-surface-color, white);\n",
       "                }\n",
       "\n",
       "                .geemap-colab .jupyter-button {\n",
       "                    --jp-layout-color3: var(--colab-primary-surface-color, white);\n",
       "                }\n",
       "            </style>\n",
       "            "
      ],
      "text/plain": [
       "<IPython.core.display.HTML object>"
      ]
     },
     "metadata": {},
     "output_type": "display_data"
    },
    {
     "name": "stdout",
     "output_type": "stream",
     "text": [
      "dict_keys(['1', '111', '121', '122', '123', '124', '13', '141', '176', '190', '195', '24', '26', '36', '37', '5'])\n"
     ]
    }
   ],
   "source": [
    "# Get the unique values in the masked CDL\n",
    "reclass_cdl_unique_values = cdl_crop_resampled_masked.reduceRegion(\n",
    "    reducer=ee.Reducer.frequencyHistogram(),\n",
    "    geometry=roi,\n",
    "    scale=10,\n",
    "    maxPixels=1e10\n",
    ").get(\"cropland\").getInfo()\n",
    "\n",
    "# Print the unique values\n",
    "print(reclass_cdl_unique_values.keys())"
   ]
  },
  {
   "cell_type": "code",
   "execution_count": 35,
   "metadata": {},
   "outputs": [
    {
     "data": {
      "text/html": [
       "\n",
       "            <style>\n",
       "                .geemap-dark {\n",
       "                    --jp-widgets-color: white;\n",
       "                    --jp-widgets-label-color: white;\n",
       "                    --jp-ui-font-color1: white;\n",
       "                    --jp-layout-color2: #454545;\n",
       "                    background-color: #383838;\n",
       "                }\n",
       "\n",
       "                .geemap-dark .jupyter-button {\n",
       "                    --jp-layout-color3: #383838;\n",
       "                }\n",
       "\n",
       "                .geemap-colab {\n",
       "                    background-color: var(--colab-primary-surface-color, white);\n",
       "                }\n",
       "\n",
       "                .geemap-colab .jupyter-button {\n",
       "                    --jp-layout-color3: var(--colab-primary-surface-color, white);\n",
       "                }\n",
       "            </style>\n",
       "            "
      ],
      "text/plain": [
       "<IPython.core.display.HTML object>"
      ]
     },
     "metadata": {},
     "output_type": "display_data"
    },
    {
     "data": {
      "application/vnd.jupyter.widget-view+json": {
       "model_id": "b2ebd55a7786417e9538b08c0814dd27",
       "version_major": 2,
       "version_minor": 0
      },
      "text/plain": [
       "Map(center=[40.7959, -84.4795], controls=(WidgetControl(options=['position', 'transparent_bg'], widget=SearchD…"
      ]
     },
     "execution_count": 35,
     "metadata": {},
     "output_type": "execute_result"
    }
   ],
   "source": [
    "# Visualize the masked CDL\n",
    "viz_params_cdl_roi = {\"min\": 1, \"max\":16, \"palette\" : [\"#ffd300\", \"#4970a3\", \"#dda50a\", \"#707000\",  \"#267000\", \"#a57000\",  \"#ffa5e2\", \"#a5f28c\",  \"#999999\",  \"#999999\", \"#999999\", \"#93cc93\", \"#e8ffbf\", \"#7cafaf\", \"#7cafaf\", \"#999999\",]}\n",
    "\n",
    "rasterMap(cdl_crop_resampled_masked, viz_params_cdl_roi, \"Cropland Data Layer - MASKED\")"
   ]
  },
  {
   "cell_type": "code",
   "execution_count": 36,
   "metadata": {},
   "outputs": [
    {
     "data": {
      "text/html": [
       "\n",
       "            <style>\n",
       "                .geemap-dark {\n",
       "                    --jp-widgets-color: white;\n",
       "                    --jp-widgets-label-color: white;\n",
       "                    --jp-ui-font-color1: white;\n",
       "                    --jp-layout-color2: #454545;\n",
       "                    background-color: #383838;\n",
       "                }\n",
       "\n",
       "                .geemap-dark .jupyter-button {\n",
       "                    --jp-layout-color3: #383838;\n",
       "                }\n",
       "\n",
       "                .geemap-colab {\n",
       "                    background-color: var(--colab-primary-surface-color, white);\n",
       "                }\n",
       "\n",
       "                .geemap-colab .jupyter-button {\n",
       "                    --jp-layout-color3: var(--colab-primary-surface-color, white);\n",
       "                }\n",
       "            </style>\n",
       "            "
      ],
      "text/plain": [
       "<IPython.core.display.HTML object>"
      ]
     },
     "metadata": {},
     "output_type": "display_data"
    },
    {
     "name": "stdout",
     "output_type": "stream",
     "text": [
      "Unique values after remapping: dict_keys(['1', '111', '121', '13', '141', '176', '190', '195', '24', '26', '36', '37', '5'])\n"
     ]
    }
   ],
   "source": [
    "# Reduce the number of classess by combining the \"Developed\" classes into a single class \n",
    "# ['Developed/Open Space', 'Developed/Low Intensity', 'Developed/Med Intensity', 'Developed/High Intensity',]\n",
    "# [121, 122, 123, 124]\n",
    "\n",
    "# Define the new value to combine all the old values\n",
    "to_value = 121  \n",
    "\n",
    "# Get the cropland band from the resampled masked CDL (10m)\n",
    "cropland_band = cdl_crop_resampled_masked.select(\"cropland\")\n",
    "\n",
    "# Remap the old values to the new value (121)\n",
    "remapped_cropland = (cropland_band\n",
    "    .where(cropland_band.eq(122), to_value)\n",
    "    .where(cropland_band.eq(123), to_value)\n",
    "    .where(cropland_band.eq(124), to_value))\n",
    "\n",
    "# Replace the original cropland band with the remapped one\n",
    "cdl_crop_resampled_masked_combined = cdl_crop_resampled_masked.addBands(remapped_cropland.rename(\"cropland_combined\"))\n",
    "\n",
    "# Remove the old 'cropland' band and add the new 'cropland_combined' band as 'cropland'\n",
    "cdl_crop_resampled_masked_combined = cdl_crop_resampled_masked_combined.select([band for band in cdl_crop_resampled_masked_combined.bandNames().getInfo() if band != \"cropland\"]).addBands(remapped_cropland.rename(\"cropland\"))\n",
    "\n",
    "# Verify the change remapped cropland band\n",
    "reclass_cdl_unique_values = cdl_crop_resampled_masked_combined.reduceRegion(\n",
    "    reducer=ee.Reducer.frequencyHistogram(),\n",
    "    geometry=roi,  \n",
    "    scale=grid_scale,\n",
    "    maxPixels=1e10\n",
    ").get(\"cropland\").getInfo()\n",
    "\n",
    "# Print the unique values\n",
    "print(\"Unique values after remapping:\", reclass_cdl_unique_values.keys())\n"
   ]
  },
  {
   "cell_type": "code",
   "execution_count": 37,
   "metadata": {},
   "outputs": [
    {
     "data": {
      "text/html": [
       "\n",
       "            <style>\n",
       "                .geemap-dark {\n",
       "                    --jp-widgets-color: white;\n",
       "                    --jp-widgets-label-color: white;\n",
       "                    --jp-ui-font-color1: white;\n",
       "                    --jp-layout-color2: #454545;\n",
       "                    background-color: #383838;\n",
       "                }\n",
       "\n",
       "                .geemap-dark .jupyter-button {\n",
       "                    --jp-layout-color3: #383838;\n",
       "                }\n",
       "\n",
       "                .geemap-colab {\n",
       "                    background-color: var(--colab-primary-surface-color, white);\n",
       "                }\n",
       "\n",
       "                .geemap-colab .jupyter-button {\n",
       "                    --jp-layout-color3: var(--colab-primary-surface-color, white);\n",
       "                }\n",
       "            </style>\n",
       "            "
      ],
      "text/plain": [
       "<IPython.core.display.HTML object>"
      ]
     },
     "metadata": {},
     "output_type": "display_data"
    },
    {
     "name": "stdout",
     "output_type": "stream",
     "text": [
      "Unique values for the new classes in the combined Masked CDL {'1': 3403052.764705882, '111': 81860.6588235294, '121': 1025221.4235294119, '13': 178459.69411764707, '141': 690832.7215686274, '176': 404608.58431372547, '190': 82435.79215686275, '195': 26366.596078431372, '24': 480841.50588235294, '26': 30668.749019607843, '36': 89164.40784313725, '37': 56352.549019607846, '5': 5194376.999999999}\n"
     ]
    }
   ],
   "source": [
    "# # Get unique crop class values and the number of pixels for each class from the Combined Masked CDL (10)\n",
    "unique_values_combined = cdl_crop_resampled_masked_combined.reduceRegion(\n",
    "    reducer=ee.Reducer.frequencyHistogram(),\n",
    "    geometry=roi,\n",
    "    scale=grid_scale,\n",
    "    maxPixels=1e9\n",
    ")\n",
    "\n",
    "# Get the histogram dictionary\n",
    "combined_histogram_dict = unique_values_combined.get(\"cropland\").getInfo()\n",
    "\n",
    "# Print the unique values and their counts\n",
    "print(\"Unique values for the new classes in the combined Masked CDL\", combined_histogram_dict)\n"
   ]
  },
  {
   "cell_type": "code",
   "execution_count": 38,
   "metadata": {},
   "outputs": [
    {
     "data": {
      "text/html": [
       "\n",
       "            <style>\n",
       "                .geemap-dark {\n",
       "                    --jp-widgets-color: white;\n",
       "                    --jp-widgets-label-color: white;\n",
       "                    --jp-ui-font-color1: white;\n",
       "                    --jp-layout-color2: #454545;\n",
       "                    background-color: #383838;\n",
       "                }\n",
       "\n",
       "                .geemap-dark .jupyter-button {\n",
       "                    --jp-layout-color3: #383838;\n",
       "                }\n",
       "\n",
       "                .geemap-colab {\n",
       "                    background-color: var(--colab-primary-surface-color, white);\n",
       "                }\n",
       "\n",
       "                .geemap-colab .jupyter-button {\n",
       "                    --jp-layout-color3: var(--colab-primary-surface-color, white);\n",
       "                }\n",
       "            </style>\n",
       "            "
      ],
      "text/plain": [
       "<IPython.core.display.HTML object>"
      ]
     },
     "metadata": {},
     "output_type": "display_data"
    },
    {
     "name": "stdout",
     "output_type": "stream",
     "text": [
      "[  1   5  13  24  26  36  37 111 121 141 176 190 195]\n"
     ]
    }
   ],
   "source": [
    "# Extract the crop types/land cover classes from the Combined Masked CDL\n",
    "unique_crop_class_combined = []\n",
    "\n",
    "for label, pixels in combined_histogram_dict.items():\n",
    "        unique_crop_class_combined.append(label)\n",
    "        unique_crop_class_combined = list(map(int, unique_crop_class_combined))\n",
    "print(np.sort(unique_crop_class_combined))"
   ]
  },
  {
   "cell_type": "code",
   "execution_count": 39,
   "metadata": {},
   "outputs": [
    {
     "data": {
      "text/html": [
       "\n",
       "            <style>\n",
       "                .geemap-dark {\n",
       "                    --jp-widgets-color: white;\n",
       "                    --jp-widgets-label-color: white;\n",
       "                    --jp-ui-font-color1: white;\n",
       "                    --jp-layout-color2: #454545;\n",
       "                    background-color: #383838;\n",
       "                }\n",
       "\n",
       "                .geemap-dark .jupyter-button {\n",
       "                    --jp-layout-color3: #383838;\n",
       "                }\n",
       "\n",
       "                .geemap-colab {\n",
       "                    background-color: var(--colab-primary-surface-color, white);\n",
       "                }\n",
       "\n",
       "                .geemap-colab .jupyter-button {\n",
       "                    --jp-layout-color3: var(--colab-primary-surface-color, white);\n",
       "                }\n",
       "            </style>\n",
       "            "
      ],
      "text/plain": [
       "<IPython.core.display.HTML object>"
      ]
     },
     "metadata": {},
     "output_type": "display_data"
    },
    {
     "name": "stdout",
     "output_type": "stream",
     "text": [
      "{'Corn': 1, 'Soybeans': 5, 'Pop or Orn Corn': 13, 'Winter Wheat': 24, 'Dbl Crop WinWht/Soybeans': 26, 'Alfalfa': 36, 'Other Hay/Non Alfalfa': 37, 'Open Water': 111, 'Developed/Open Space': 121, 'Deciduous Forest': 141, 'Grassland/Pasture': 176, 'Woody Wetlands': 190, 'Herbaceous Wetlands': 195}\n"
     ]
    }
   ],
   "source": [
    "# Add \"names\" to the selected crop classes(values) \n",
    "cdl_name_class_combined = {}\n",
    "\n",
    "for name, value in cdl_name_value.items():\n",
    "     if value in unique_crop_class_combined:\n",
    "        cdl_name_class_combined[name] = value\n",
    "\n",
    "print(cdl_name_class_combined)"
   ]
  },
  {
   "cell_type": "code",
   "execution_count": 127,
   "metadata": {},
   "outputs": [
    {
     "data": {
      "text/html": [
       "\n",
       "            <style>\n",
       "                .geemap-dark {\n",
       "                    --jp-widgets-color: white;\n",
       "                    --jp-widgets-label-color: white;\n",
       "                    --jp-ui-font-color1: white;\n",
       "                    --jp-layout-color2: #454545;\n",
       "                    background-color: #383838;\n",
       "                }\n",
       "\n",
       "                .geemap-dark .jupyter-button {\n",
       "                    --jp-layout-color3: #383838;\n",
       "                }\n",
       "\n",
       "                .geemap-colab {\n",
       "                    background-color: var(--colab-primary-surface-color, white);\n",
       "                }\n",
       "\n",
       "                .geemap-colab .jupyter-button {\n",
       "                    --jp-layout-color3: var(--colab-primary-surface-color, white);\n",
       "                }\n",
       "            </style>\n",
       "            "
      ],
      "text/plain": [
       "<IPython.core.display.HTML object>"
      ]
     },
     "metadata": {},
     "output_type": "display_data"
    },
    {
     "name": "stdout",
     "output_type": "stream",
     "text": [
      "{'type': 'Feature', 'geometry': {'geodesic': False, 'type': 'Point', 'coordinates': [-84.57771735149556, 40.69557290061727]}, 'id': '0', 'properties': {'cropland': 1, 'cropland_combined': 1}}\n",
      "Class Balance: {'1': 60, '111': 60, '121': 60, '13': 60, '141': 60, '176': 60, '190': 60, '195': 60, '24': 60, '26': 60, '36': 60, '37': 60, '5': 60}\n"
     ]
    }
   ],
   "source": [
    "# Extract point samples from the the Combined Masked CDL using the stratified random sampling method\n",
    "\n",
    "num_points = 60  \n",
    "sampled_points = cdl_crop_resampled_masked_combined.stratifiedSample(\n",
    "    numPoints= num_points,\n",
    "    classBand= \"cropland\", \n",
    "    region= roi,\n",
    "    scale= grid_scale,\n",
    "    geometries= True\n",
    ")\n",
    "\n",
    "# Convert sampled points to a feature collection\n",
    "sampled_points_fc = ee.FeatureCollection(sampled_points)\n",
    "\n",
    "# Print the sampled points\n",
    "print(sampled_points_fc.first().getInfo())\n",
    "\n",
    "# Check the class balance\n",
    "def countClasses(feature_collection, class_property):\n",
    "    class_count = feature_collection.aggregate_histogram(class_property).getInfo()\n",
    "    return class_count\n",
    "\n",
    "# Count the number of points in each class\n",
    "class_balance = countClasses(sampled_points_fc, \"cropland\")\n",
    "print(\"Class Balance:\", class_balance)\n"
   ]
  },
  {
   "cell_type": "markdown",
   "metadata": {},
   "source": [
    "**For some reasons, the error matrix was not working with the default labels for the crop types from the \"combined_samples\" feature collection. So, I had to convert the collection to a GDF and renamed them sequentially.**"
   ]
  },
  {
   "cell_type": "code",
   "execution_count": 128,
   "metadata": {},
   "outputs": [
    {
     "data": {
      "text/html": [
       "\n",
       "            <style>\n",
       "                .geemap-dark {\n",
       "                    --jp-widgets-color: white;\n",
       "                    --jp-widgets-label-color: white;\n",
       "                    --jp-ui-font-color1: white;\n",
       "                    --jp-layout-color2: #454545;\n",
       "                    background-color: #383838;\n",
       "                }\n",
       "\n",
       "                .geemap-dark .jupyter-button {\n",
       "                    --jp-layout-color3: #383838;\n",
       "                }\n",
       "\n",
       "                .geemap-colab {\n",
       "                    background-color: var(--colab-primary-surface-color, white);\n",
       "                }\n",
       "\n",
       "                .geemap-colab .jupyter-button {\n",
       "                    --jp-layout-color3: var(--colab-primary-surface-color, white);\n",
       "                }\n",
       "            </style>\n",
       "            "
      ],
      "text/plain": [
       "<IPython.core.display.HTML object>"
      ]
     },
     "metadata": {},
     "output_type": "display_data"
    },
    {
     "name": "stdout",
     "output_type": "stream",
     "text": [
      "<class 'geopandas.geodataframe.GeoDataFrame'>\n",
      "RangeIndex: 780 entries, 0 to 779\n",
      "Data columns (total 3 columns):\n",
      " #   Column             Non-Null Count  Dtype   \n",
      "---  ------             --------------  -----   \n",
      " 0   geometry           780 non-null    geometry\n",
      " 1   cropland           780 non-null    int64   \n",
      " 2   cropland_combined  780 non-null    int64   \n",
      "dtypes: geometry(1), int64(2)\n",
      "memory usage: 18.4 KB\n",
      "                     geometry  cropland  cropland_combined\n",
      "0  POINT (-84.57772 40.69557)         1                  1\n",
      "1  POINT (-84.35341 40.78827)         1                  1\n",
      "2  POINT (-84.66008 40.73437)         1                  1\n",
      "3  POINT (-84.20672 40.73590)         1                  1\n",
      "4  POINT (-84.32629 40.66603)         1                  1\n",
      "The new classes are: [ 1  2  3  4  5  6  7  8  9 10 11 12 13]\n"
     ]
    }
   ],
   "source": [
    "# Convert the point samples to a GeodataFrame\n",
    "samples_gdf = geemap.ee_to_gdf(sampled_points_fc)\n",
    "\n",
    "samples_gdf.info()\n",
    "print(samples_gdf.head())\n",
    "\n",
    "# Get the unique labels for the crop types\n",
    "unique_values = samples_gdf[\"cropland\"].unique()\n",
    "\n",
    "# Convert the existing unique values to a sequence of integers from 1 to n\n",
    "value_mapping = {value: idx + 1 for idx, value in enumerate(unique_values)}\n",
    "samples_gdf[\"cropland\"] = samples_gdf[\"cropland\"].map(value_mapping)\n",
    "\n",
    "\n",
    "print(f\"The new classes are: {samples_gdf[\"cropland\"].unique()}\")\n"
   ]
  },
  {
   "cell_type": "code",
   "execution_count": 129,
   "metadata": {},
   "outputs": [
    {
     "data": {
      "text/html": [
       "\n",
       "            <style>\n",
       "                .geemap-dark {\n",
       "                    --jp-widgets-color: white;\n",
       "                    --jp-widgets-label-color: white;\n",
       "                    --jp-ui-font-color1: white;\n",
       "                    --jp-layout-color2: #454545;\n",
       "                    background-color: #383838;\n",
       "                }\n",
       "\n",
       "                .geemap-dark .jupyter-button {\n",
       "                    --jp-layout-color3: #383838;\n",
       "                }\n",
       "\n",
       "                .geemap-colab {\n",
       "                    background-color: var(--colab-primary-surface-color, white);\n",
       "                }\n",
       "\n",
       "                .geemap-colab .jupyter-button {\n",
       "                    --jp-layout-color3: var(--colab-primary-surface-color, white);\n",
       "                }\n",
       "            </style>\n",
       "            "
      ],
      "text/plain": [
       "<IPython.core.display.HTML object>"
      ]
     },
     "metadata": {},
     "output_type": "display_data"
    },
    {
     "data": {
      "text/plain": [
       "{'type': 'Feature',\n",
       " 'geometry': {'type': 'Point',\n",
       "  'coordinates': [-84.57771735149556, 40.69557290061727]},\n",
       " 'id': '0',\n",
       " 'properties': {'cropland': 1, 'cropland_combined': 1}}"
      ]
     },
     "execution_count": 129,
     "metadata": {},
     "output_type": "execute_result"
    }
   ],
   "source": [
    "# Convert the samples back to a FeatureCollection\n",
    "sample_ee = geemap.gdf_to_ee(samples_gdf)\n",
    "sample_ee.first().getInfo()"
   ]
  },
  {
   "cell_type": "markdown",
   "metadata": {},
   "source": [
    "### 5. ML Training and Validation - Random Forest"
   ]
  },
  {
   "cell_type": "code",
   "execution_count": 130,
   "metadata": {},
   "outputs": [
    {
     "data": {
      "text/html": [
       "\n",
       "            <style>\n",
       "                .geemap-dark {\n",
       "                    --jp-widgets-color: white;\n",
       "                    --jp-widgets-label-color: white;\n",
       "                    --jp-ui-font-color1: white;\n",
       "                    --jp-layout-color2: #454545;\n",
       "                    background-color: #383838;\n",
       "                }\n",
       "\n",
       "                .geemap-dark .jupyter-button {\n",
       "                    --jp-layout-color3: #383838;\n",
       "                }\n",
       "\n",
       "                .geemap-colab {\n",
       "                    background-color: var(--colab-primary-surface-color, white);\n",
       "                }\n",
       "\n",
       "                .geemap-colab .jupyter-button {\n",
       "                    --jp-layout-color3: var(--colab-primary-surface-color, white);\n",
       "                }\n",
       "            </style>\n",
       "            "
      ],
      "text/plain": [
       "<IPython.core.display.HTML object>"
      ]
     },
     "metadata": {},
     "output_type": "display_data"
    },
    {
     "name": "stdout",
     "output_type": "stream",
     "text": [
      "The training sample size: 542\n",
      "The testing sample size: 238\n",
      "The training sample Example: {'type': 'Feature', 'geometry': {'type': 'Point', 'coordinates': [-84.35341134415587, 40.78827215803246]}, 'id': '1', 'properties': {'cropland': 1, 'cropland_combined': 1, 'random': 0.5509194890145481}}\n",
      "The testing sample Example: {'type': 'Feature', 'geometry': {'type': 'Point', 'coordinates': [-84.57771735149556, 40.69557290061727]}, 'id': '0', 'properties': {'cropland': 1, 'cropland_combined': 1, 'random': 0.8661601168746067}}\n",
      "Unique Classes in Training Set: [1, 2, 3, 4, 5, 6, 7, 8, 9, 10, 11, 12, 13]\n",
      "Unique Classes in Testing Set: [1, 2, 3, 4, 5, 6, 7, 8, 9, 10, 11, 12, 13]\n"
     ]
    }
   ],
   "source": [
    "# Split the samples randomly to training and testing (70, 30)\n",
    "sample = sample_ee.randomColumn()\n",
    "training_sample = sample.filter(ee.Filter.lt(\"random\", 0.7))\n",
    "testing_sample = sample.filter(ee.Filter.gte(\"random\", 0.7))\n",
    "\n",
    "# Print the size of training and testing samples\n",
    "print(f\"The training sample size: {training_sample.size().getInfo()}\")\n",
    "print(f\"The testing sample size: {testing_sample.size().getInfo()}\")\n",
    "\n",
    "print(f\"The training sample Example: {training_sample.first().getInfo()}\")\n",
    "print(f\"The testing sample Example: {testing_sample.first().getInfo()}\")\n",
    "\n",
    "# Extract unique \"classes\" values from the training and testing sample\n",
    "training_ids = training_sample.aggregate_array(\"cropland\").distinct()\n",
    "training_ids_list = training_ids.getInfo()\n",
    "\n",
    "# Extract unique \"classes\" values from the testing set\n",
    "testing_ids = testing_sample.aggregate_array(\"cropland\").distinct()\n",
    "testing_ids_list = testing_ids.getInfo()\n",
    "\n",
    "print(\"Unique Classes in Training Set:\", training_ids_list)\n",
    "print(\"Unique Classes in Testing Set:\", testing_ids_list)\n"
   ]
  },
  {
   "cell_type": "code",
   "execution_count": 131,
   "metadata": {},
   "outputs": [
    {
     "data": {
      "text/html": [
       "\n",
       "            <style>\n",
       "                .geemap-dark {\n",
       "                    --jp-widgets-color: white;\n",
       "                    --jp-widgets-label-color: white;\n",
       "                    --jp-ui-font-color1: white;\n",
       "                    --jp-layout-color2: #454545;\n",
       "                    background-color: #383838;\n",
       "                }\n",
       "\n",
       "                .geemap-dark .jupyter-button {\n",
       "                    --jp-layout-color3: #383838;\n",
       "                }\n",
       "\n",
       "                .geemap-colab {\n",
       "                    background-color: var(--colab-primary-surface-color, white);\n",
       "                }\n",
       "\n",
       "                .geemap-colab .jupyter-button {\n",
       "                    --jp-layout-color3: var(--colab-primary-surface-color, white);\n",
       "                }\n",
       "            </style>\n",
       "            "
      ],
      "text/plain": [
       "<IPython.core.display.HTML object>"
      ]
     },
     "metadata": {},
     "output_type": "display_data"
    },
    {
     "data": {
      "application/vnd.jupyter.widget-view+json": {
       "model_id": "5597d4fb4ca44fa49f2fcb83ed4ecebb",
       "version_major": 2,
       "version_minor": 0
      },
      "text/plain": [
       "Map(center=[40.7959, -84.4795], controls=(WidgetControl(options=['position', 'transparent_bg'], widget=SearchD…"
      ]
     },
     "execution_count": 131,
     "metadata": {},
     "output_type": "execute_result"
    }
   ],
   "source": [
    "# Visualize the training and testing sets without the spectral properties of the image\n",
    "Map = geemap.Map(center=[40.7959, -84.4795], zoom=10)\n",
    "\n",
    "# Style dictionaries for training and testing samples\n",
    "training_style = {\"color\": \"blue\", \"pointSize\": 3}\n",
    "testing_style = {\"color\": \"red\", \"pointSize\": 3}\n",
    "\n",
    "# Add training samples to the map with blue color\n",
    "training_layer = training_sample.style(**training_style)\n",
    "Map.addLayer(training_layer, {}, \"Training Samples\")\n",
    "\n",
    "# Add testing samples to the map with red color\n",
    "testing_layer = testing_sample.style(**testing_style)\n",
    "Map.addLayer(testing_layer, {}, \"Testing Samples\")\n",
    "\n",
    "# Display the map\n",
    "Map"
   ]
  },
  {
   "cell_type": "code",
   "execution_count": 132,
   "metadata": {},
   "outputs": [
    {
     "data": {
      "text/html": [
       "\n",
       "            <style>\n",
       "                .geemap-dark {\n",
       "                    --jp-widgets-color: white;\n",
       "                    --jp-widgets-label-color: white;\n",
       "                    --jp-ui-font-color1: white;\n",
       "                    --jp-layout-color2: #454545;\n",
       "                    background-color: #383838;\n",
       "                }\n",
       "\n",
       "                .geemap-dark .jupyter-button {\n",
       "                    --jp-layout-color3: #383838;\n",
       "                }\n",
       "\n",
       "                .geemap-colab {\n",
       "                    background-color: var(--colab-primary-surface-color, white);\n",
       "                }\n",
       "\n",
       "                .geemap-colab .jupyter-button {\n",
       "                    --jp-layout-color3: var(--colab-primary-surface-color, white);\n",
       "                }\n",
       "            </style>\n",
       "            "
      ],
      "text/plain": [
       "<IPython.core.display.HTML object>"
      ]
     },
     "metadata": {},
     "output_type": "display_data"
    },
    {
     "name": "stdout",
     "output_type": "stream",
     "text": [
      "Unique classes in training set: {'1': 40, '10': 41, '11': 35, '12': 33, '13': 40, '2': 45, '3': 46, '4': 46, '5': 46, '6': 42, '7': 42, '8': 47, '9': 39}\n",
      "Unique classes in testing set: {'1': 20, '10': 19, '11': 25, '12': 27, '13': 20, '2': 15, '3': 14, '4': 14, '5': 14, '6': 18, '7': 18, '8': 13, '9': 21}\n"
     ]
    }
   ],
   "source": [
    "# Print unique classes in the training set\n",
    "unique_classes_training = training_sample.aggregate_histogram(\"cropland\").getInfo()\n",
    "print(\"Unique classes in training set:\", unique_classes_training)\n",
    "\n",
    "# Print unique classes in the testing set\n",
    "unique_classes_testing = testing_sample.aggregate_histogram(\"cropland\").getInfo()\n",
    "print(\"Unique classes in testing set:\", unique_classes_testing)"
   ]
  },
  {
   "cell_type": "code",
   "execution_count": 133,
   "metadata": {},
   "outputs": [
    {
     "data": {
      "text/html": [
       "\n",
       "            <style>\n",
       "                .geemap-dark {\n",
       "                    --jp-widgets-color: white;\n",
       "                    --jp-widgets-label-color: white;\n",
       "                    --jp-ui-font-color1: white;\n",
       "                    --jp-layout-color2: #454545;\n",
       "                    background-color: #383838;\n",
       "                }\n",
       "\n",
       "                .geemap-dark .jupyter-button {\n",
       "                    --jp-layout-color3: #383838;\n",
       "                }\n",
       "\n",
       "                .geemap-colab {\n",
       "                    background-color: var(--colab-primary-surface-color, white);\n",
       "                }\n",
       "\n",
       "                .geemap-colab .jupyter-button {\n",
       "                    --jp-layout-color3: var(--colab-primary-surface-color, white);\n",
       "                }\n",
       "            </style>\n",
       "            "
      ],
      "text/plain": [
       "<IPython.core.display.HTML object>"
      ]
     },
     "metadata": {},
     "output_type": "display_data"
    },
    {
     "data": {
      "text/plain": [
       "['B2',\n",
       " 'B3',\n",
       " 'B4',\n",
       " 'B8',\n",
       " 'B5',\n",
       " 'B6',\n",
       " 'B7',\n",
       " 'B8A',\n",
       " 'B11',\n",
       " 'B12',\n",
       " 'ndvi',\n",
       " 'mndwi',\n",
       " 'gndvi',\n",
       " 'B2_1',\n",
       " 'B3_1',\n",
       " 'B4_1',\n",
       " 'B8_1',\n",
       " 'B5_1',\n",
       " 'B6_1',\n",
       " 'B7_1',\n",
       " 'B8A_1',\n",
       " 'B11_1',\n",
       " 'B12_1',\n",
       " 'ndvi_1',\n",
       " 'mndwi_1',\n",
       " 'gndvi_1',\n",
       " 'B2_3',\n",
       " 'B3_3',\n",
       " 'B4_3',\n",
       " 'B8_3',\n",
       " 'B5_3',\n",
       " 'B6_3',\n",
       " 'B7_3',\n",
       " 'B8A_3',\n",
       " 'B11_3',\n",
       " 'B12_3',\n",
       " 'ndvi_3',\n",
       " 'mndwi_3',\n",
       " 'gndvi_3',\n",
       " 'B2_4',\n",
       " 'B3_4',\n",
       " 'B4_4',\n",
       " 'B8_4',\n",
       " 'B5_4',\n",
       " 'B6_4',\n",
       " 'B7_4',\n",
       " 'B8A_4',\n",
       " 'B11_4',\n",
       " 'B12_4',\n",
       " 'ndvi_4',\n",
       " 'mndwi_4',\n",
       " 'gndvi_4',\n",
       " 'B2_5',\n",
       " 'B3_5',\n",
       " 'B4_5',\n",
       " 'B8_5',\n",
       " 'B5_5',\n",
       " 'B6_5',\n",
       " 'B7_5',\n",
       " 'B8A_5',\n",
       " 'B11_5',\n",
       " 'B12_5',\n",
       " 'ndvi_5',\n",
       " 'mndwi_5',\n",
       " 'gndvi_5']"
      ]
     },
     "execution_count": 133,
     "metadata": {},
     "output_type": "execute_result"
    }
   ],
   "source": [
    "# Create a mask of the pixels with the major landcover/crop type alone in the s2_monthly_median\n",
    "s2_monthly_median_masked = s2_monthly_median.updateMask(cdl_crop_masked)\n",
    "s2_monthly_median_masked.bandNames().getInfo()"
   ]
  },
  {
   "cell_type": "code",
   "execution_count": 134,
   "metadata": {},
   "outputs": [
    {
     "data": {
      "text/html": [
       "\n",
       "            <style>\n",
       "                .geemap-dark {\n",
       "                    --jp-widgets-color: white;\n",
       "                    --jp-widgets-label-color: white;\n",
       "                    --jp-ui-font-color1: white;\n",
       "                    --jp-layout-color2: #454545;\n",
       "                    background-color: #383838;\n",
       "                }\n",
       "\n",
       "                .geemap-dark .jupyter-button {\n",
       "                    --jp-layout-color3: #383838;\n",
       "                }\n",
       "\n",
       "                .geemap-colab {\n",
       "                    background-color: var(--colab-primary-surface-color, white);\n",
       "                }\n",
       "\n",
       "                .geemap-colab .jupyter-button {\n",
       "                    --jp-layout-color3: var(--colab-primary-surface-color, white);\n",
       "                }\n",
       "            </style>\n",
       "            "
      ],
      "text/plain": [
       "<IPython.core.display.HTML object>"
      ]
     },
     "metadata": {},
     "output_type": "display_data"
    },
    {
     "data": {
      "application/vnd.jupyter.widget-view+json": {
       "model_id": "24eaa1135c74497494fee2705d1bc4ab",
       "version_major": 2,
       "version_minor": 0
      },
      "text/plain": [
       "Map(center=[40.7959, -84.4795], controls=(WidgetControl(options=['position', 'transparent_bg'], widget=SearchD…"
      ]
     },
     "execution_count": 134,
     "metadata": {},
     "output_type": "execute_result"
    }
   ],
   "source": [
    "# Visualize the MASKED Sentinel-2 Median composite image in true colour\n",
    "\n",
    "rasterMap(s2_monthly_median_masked, viz_params_s2_rgb, \"Sentinel-2 Monthly Median Composite (MASKED)\")"
   ]
  },
  {
   "cell_type": "code",
   "execution_count": 135,
   "metadata": {},
   "outputs": [
    {
     "data": {
      "text/html": [
       "\n",
       "            <style>\n",
       "                .geemap-dark {\n",
       "                    --jp-widgets-color: white;\n",
       "                    --jp-widgets-label-color: white;\n",
       "                    --jp-ui-font-color1: white;\n",
       "                    --jp-layout-color2: #454545;\n",
       "                    background-color: #383838;\n",
       "                }\n",
       "\n",
       "                .geemap-dark .jupyter-button {\n",
       "                    --jp-layout-color3: #383838;\n",
       "                }\n",
       "\n",
       "                .geemap-colab {\n",
       "                    background-color: var(--colab-primary-surface-color, white);\n",
       "                }\n",
       "\n",
       "                .geemap-colab .jupyter-button {\n",
       "                    --jp-layout-color3: var(--colab-primary-surface-color, white);\n",
       "                }\n",
       "            </style>\n",
       "            "
      ],
      "text/plain": [
       "<IPython.core.display.HTML object>"
      ]
     },
     "metadata": {},
     "output_type": "display_data"
    },
    {
     "data": {
      "text/plain": [
       "{'type': 'Feature',\n",
       " 'geometry': None,\n",
       " 'id': '1_0',\n",
       " 'properties': {'B11': 0.2947,\n",
       "  'B11_1': 0.40815,\n",
       "  'B11_3': 0.187,\n",
       "  'B11_4': 0.21940000000000004,\n",
       "  'B11_5': 0.24180000000000001,\n",
       "  'B12': 0.25835,\n",
       "  'B12_1': 0.37265000000000004,\n",
       "  'B12_3': 0.1003,\n",
       "  'B12_4': 0.13119999999999998,\n",
       "  'B12_5': 0.18695,\n",
       "  'B2': 0.0777,\n",
       "  'B2_1': 0.12110000000000001,\n",
       "  'B2_3': 0.03735,\n",
       "  'B2_4': 0.035300000000000005,\n",
       "  'B2_5': 0.0392,\n",
       "  'B3': 0.0968,\n",
       "  'B3_1': 0.1582,\n",
       "  'B3_3': 0.0518,\n",
       "  'B3_4': 0.0567,\n",
       "  'B3_5': 0.05535,\n",
       "  'B4': 0.13319999999999999,\n",
       "  'B4_1': 0.2007,\n",
       "  'B4_3': 0.0332,\n",
       "  'B4_4': 0.07350000000000001,\n",
       "  'B4_5': 0.0855,\n",
       "  'B5': 0.15460000000000002,\n",
       "  'B5_1': 0.23475000000000001,\n",
       "  'B5_3': 0.08710000000000001,\n",
       "  'B5_4': 0.1094,\n",
       "  'B5_5': 0.10505,\n",
       "  'B6': 0.1778,\n",
       "  'B6_1': 0.25375000000000003,\n",
       "  'B6_3': 0.2893,\n",
       "  'B6_4': 0.21975,\n",
       "  'B6_5': 0.11785000000000001,\n",
       "  'B7': 0.19445,\n",
       "  'B7_1': 0.27535,\n",
       "  'B7_3': 0.42305000000000004,\n",
       "  'B7_4': 0.2852,\n",
       "  'B7_5': 0.134,\n",
       "  'B8': 0.20140000000000002,\n",
       "  'B8A': 0.21680000000000002,\n",
       "  'B8A_1': 0.29800000000000004,\n",
       "  'B8A_3': 0.4423,\n",
       "  'B8A_4': 0.3144,\n",
       "  'B8A_5': 0.1568,\n",
       "  'B8_1': 0.2802,\n",
       "  'B8_3': 0.4294,\n",
       "  'B8_4': 0.3043,\n",
       "  'B8_5': 0.1452,\n",
       "  'cropland': 1,\n",
       "  'gndvi': 0.3485991060733795,\n",
       "  'gndvi_1': 0.28029385209083557,\n",
       "  'gndvi_3': 0.7831956148147583,\n",
       "  'gndvi_4': 0.663252055644989,\n",
       "  'gndvi_5': 0.4438064396381378,\n",
       "  'mndwi': -0.4609132409095764,\n",
       "  'mndwi_1': -0.44162148237228394,\n",
       "  'mndwi_3': -0.560824990272522,\n",
       "  'mndwi_4': -0.5928908586502075,\n",
       "  'mndwi_5': -0.6293485760688782,\n",
       "  'ndvi': 0.20982103049755096,\n",
       "  'ndvi_1': 0.16989798843860626,\n",
       "  'ndvi_3': 0.8550447225570679,\n",
       "  'ndvi_4': 0.5799580216407776,\n",
       "  'ndvi_5': 0.25618940591812134}}"
      ]
     },
     "execution_count": 135,
     "metadata": {},
     "output_type": "execute_result"
    }
   ],
   "source": [
    "# Extract the (spectral) properties of the bands in the s2_monthly_median layer to the training points\n",
    "training_set = s2_monthly_median_masked.sampleRegions(\n",
    "        collection= training_sample,\n",
    "        properties = [\"cropland\"],\n",
    "        scale= grid_scale\n",
    "    )\n",
    "\n",
    "# Inspect the result\n",
    "training_set.first().getInfo()"
   ]
  },
  {
   "cell_type": "code",
   "execution_count": 136,
   "metadata": {},
   "outputs": [
    {
     "data": {
      "text/html": [
       "\n",
       "            <style>\n",
       "                .geemap-dark {\n",
       "                    --jp-widgets-color: white;\n",
       "                    --jp-widgets-label-color: white;\n",
       "                    --jp-ui-font-color1: white;\n",
       "                    --jp-layout-color2: #454545;\n",
       "                    background-color: #383838;\n",
       "                }\n",
       "\n",
       "                .geemap-dark .jupyter-button {\n",
       "                    --jp-layout-color3: #383838;\n",
       "                }\n",
       "\n",
       "                .geemap-colab {\n",
       "                    background-color: var(--colab-primary-surface-color, white);\n",
       "                }\n",
       "\n",
       "                .geemap-colab .jupyter-button {\n",
       "                    --jp-layout-color3: var(--colab-primary-surface-color, white);\n",
       "                }\n",
       "            </style>\n",
       "            "
      ],
      "text/plain": [
       "<IPython.core.display.HTML object>"
      ]
     },
     "metadata": {},
     "output_type": "display_data"
    },
    {
     "data": {
      "text/plain": [
       "{'Corn': 1,\n",
       " 'Soybeans': 5,\n",
       " 'Pop or Orn Corn': 13,\n",
       " 'Winter Wheat': 24,\n",
       " 'Dbl Crop WinWht/Soybeans': 26,\n",
       " 'Alfalfa': 36,\n",
       " 'Other Hay/Non Alfalfa': 37,\n",
       " 'Open Water': 111,\n",
       " 'Developed/Open Space': 121,\n",
       " 'Deciduous Forest': 141,\n",
       " 'Grassland/Pasture': 176,\n",
       " 'Woody Wetlands': 190,\n",
       " 'Herbaceous Wetlands': 195}"
      ]
     },
     "execution_count": 136,
     "metadata": {},
     "output_type": "execute_result"
    }
   ],
   "source": [
    "cdl_name_class_combined"
   ]
  },
  {
   "cell_type": "code",
   "execution_count": 137,
   "metadata": {},
   "outputs": [
    {
     "data": {
      "text/html": [
       "\n",
       "            <style>\n",
       "                .geemap-dark {\n",
       "                    --jp-widgets-color: white;\n",
       "                    --jp-widgets-label-color: white;\n",
       "                    --jp-ui-font-color1: white;\n",
       "                    --jp-layout-color2: #454545;\n",
       "                    background-color: #383838;\n",
       "                }\n",
       "\n",
       "                .geemap-dark .jupyter-button {\n",
       "                    --jp-layout-color3: #383838;\n",
       "                }\n",
       "\n",
       "                .geemap-colab {\n",
       "                    background-color: var(--colab-primary-surface-color, white);\n",
       "                }\n",
       "\n",
       "                .geemap-colab .jupyter-button {\n",
       "                    --jp-layout-color3: var(--colab-primary-surface-color, white);\n",
       "                }\n",
       "            </style>\n",
       "            "
      ],
      "text/plain": [
       "<IPython.core.display.HTML object>"
      ]
     },
     "metadata": {},
     "output_type": "display_data"
    },
    {
     "data": {
      "text/plain": [
       "['Corn',\n",
       " 'Soybeans',\n",
       " 'Pop or Orn Corn',\n",
       " 'Winter Wheat',\n",
       " 'Dbl Crop WinWht/Soybeans',\n",
       " 'Alfalfa',\n",
       " 'Other Hay/Non Alfalfa',\n",
       " 'Open Water',\n",
       " 'Developed/Open Space',\n",
       " 'Deciduous Forest',\n",
       " 'Grassland/Pasture',\n",
       " 'Woody Wetlands',\n",
       " 'Herbaceous Wetlands']"
      ]
     },
     "execution_count": 137,
     "metadata": {},
     "output_type": "execute_result"
    }
   ],
   "source": [
    "# Create a list of the crop types to be used for the headings of the error_matrix columns\n",
    "crop_types = []\n",
    "for type, label in cdl_name_class_combined.items():\n",
    "    name = type\n",
    "    crop_types.append(name)\n",
    "crop_types"
   ]
  },
  {
   "cell_type": "code",
   "execution_count": null,
   "metadata": {},
   "outputs": [],
   "source": [
    "# Create output folder\n",
    "if not os.path.exists(\"Outputs\"):\n",
    "    os.mkdir(\"Outputs\")"
   ]
  },
  {
   "cell_type": "code",
   "execution_count": 143,
   "metadata": {},
   "outputs": [
    {
     "data": {
      "text/html": [
       "\n",
       "            <style>\n",
       "                .geemap-dark {\n",
       "                    --jp-widgets-color: white;\n",
       "                    --jp-widgets-label-color: white;\n",
       "                    --jp-ui-font-color1: white;\n",
       "                    --jp-layout-color2: #454545;\n",
       "                    background-color: #383838;\n",
       "                }\n",
       "\n",
       "                .geemap-dark .jupyter-button {\n",
       "                    --jp-layout-color3: #383838;\n",
       "                }\n",
       "\n",
       "                .geemap-colab {\n",
       "                    background-color: var(--colab-primary-surface-color, white);\n",
       "                }\n",
       "\n",
       "                .geemap-colab .jupyter-button {\n",
       "                    --jp-layout-color3: var(--colab-primary-surface-color, white);\n",
       "                }\n",
       "            </style>\n",
       "            "
      ],
      "text/plain": [
       "<IPython.core.display.HTML object>"
      ]
     },
     "metadata": {},
     "output_type": "display_data"
    },
    {
     "name": "stdout",
     "output_type": "stream",
     "text": [
      "Error matrix array: [[0, 0, 0, 0, 0, 0, 0, 0, 0, 0, 0, 0, 0, 0], [0, 17, 1, 1, 0, 0, 0, 1, 0, 0, 0, 0, 0, 0], [0, 2, 11, 1, 0, 0, 0, 0, 0, 1, 0, 0, 0, 0], [0, 0, 0, 14, 0, 0, 0, 0, 0, 0, 0, 0, 0, 0], [0, 0, 1, 0, 10, 3, 0, 0, 0, 0, 0, 0, 0, 0], [0, 0, 0, 0, 1, 13, 0, 0, 0, 0, 0, 0, 0, 0], [0, 0, 0, 0, 0, 0, 13, 2, 0, 0, 0, 3, 0, 0], [0, 1, 0, 0, 0, 0, 3, 10, 0, 2, 0, 2, 0, 0], [0, 0, 0, 0, 0, 0, 0, 0, 10, 0, 1, 0, 0, 1], [0, 4, 1, 1, 0, 0, 0, 2, 1, 11, 0, 1, 0, 0], [0, 1, 0, 0, 0, 0, 0, 0, 0, 0, 10, 1, 5, 2], [0, 0, 0, 0, 1, 1, 0, 4, 0, 3, 3, 13, 0, 0], [0, 0, 0, 0, 0, 0, 0, 0, 0, 0, 5, 1, 16, 5], [0, 0, 0, 0, 0, 0, 0, 0, 3, 1, 2, 2, 1, 10]]\n",
      "Error matrix dimensions: 14 rows x 14 columns\n",
      "    Corn  Soybeans  Pop or Orn Corn  Winter Wheat  Dbl Crop WinWht/Soybeans  \\\n",
      "0     17         1                1             0                         0   \n",
      "1      2        11                1             0                         0   \n",
      "2      0         0               14             0                         0   \n",
      "3      0         1                0            10                         3   \n",
      "4      0         0                0             1                        13   \n",
      "5      0         0                0             0                         0   \n",
      "6      1         0                0             0                         0   \n",
      "7      0         0                0             0                         0   \n",
      "8      4         1                1             0                         0   \n",
      "9      1         0                0             0                         0   \n",
      "10     0         0                0             1                         1   \n",
      "11     0         0                0             0                         0   \n",
      "12     0         0                0             0                         0   \n",
      "\n",
      "    Alfalfa  Other Hay/Non Alfalfa  Open Water  Developed/Open Space  \\\n",
      "0         0                      1           0                     0   \n",
      "1         0                      0           0                     1   \n",
      "2         0                      0           0                     0   \n",
      "3         0                      0           0                     0   \n",
      "4         0                      0           0                     0   \n",
      "5        13                      2           0                     0   \n",
      "6         3                     10           0                     2   \n",
      "7         0                      0          10                     0   \n",
      "8         0                      2           1                    11   \n",
      "9         0                      0           0                     0   \n",
      "10        0                      4           0                     3   \n",
      "11        0                      0           0                     0   \n",
      "12        0                      0           3                     1   \n",
      "\n",
      "    Deciduous Forest  Grassland/Pasture  Woody Wetlands  Herbaceous Wetlands  \n",
      "0                  0                  0               0                    0  \n",
      "1                  0                  0               0                    0  \n",
      "2                  0                  0               0                    0  \n",
      "3                  0                  0               0                    0  \n",
      "4                  0                  0               0                    0  \n",
      "5                  0                  3               0                    0  \n",
      "6                  0                  2               0                    0  \n",
      "7                  1                  0               0                    1  \n",
      "8                  0                  1               0                    0  \n",
      "9                 10                  1               5                    2  \n",
      "10                 3                 13               0                    0  \n",
      "11                 5                  1              16                    5  \n",
      "12                 2                  2               1                   10  \n",
      "Overall Accuracy for Random Forest: 0.669\n",
      "Producers Accuracy for Random Forest: [[0], [0.85], [0.7333333333333333], [1], [0.7142857142857143], [0.9285714285714286], [0.7222222222222222], [0.5555555555555556], [0.8333333333333334], [0.5238095238095238], [0.5263157894736842], [0.52], [0.5925925925925926], [0.5263157894736842]]\n",
      "Consumers Accuracy for Random Forest: [[0, 0.68, 0.7857142857142857, 0.8235294117647058, 0.8333333333333334, 0.7647058823529411, 0.8125, 0.5263157894736842, 0.7142857142857143, 0.6111111111111112, 0.47619047619047616, 0.5652173913043478, 0.7272727272727273, 0.5555555555555556]]\n",
      "Kappa for Random Forest: 0.641\n"
     ]
    }
   ],
   "source": [
    "# Train the Random Forest Classifier\n",
    "model = (ee.Classifier.smileRandomForest(\n",
    "        numberOfTrees = 80,\n",
    "        variablesPerSplit = 3,\n",
    "        minLeafPopulation = None,\n",
    "        bagFraction = None,\n",
    "        maxNodes = None,\n",
    "        seed = None,\n",
    "        )\n",
    "    )\n",
    "\n",
    "# Train the RF model with the training set\n",
    "classifier = model.train(\n",
    "        features = training_set,\n",
    "        classProperty = \"cropland\",\n",
    "        inputProperties = s2_monthly_median_masked.bandNames()\n",
    "    )\n",
    "\n",
    "# Perform the classification\n",
    "classified = s2_monthly_median_masked.classify(classifier)\n",
    "\n",
    "\n",
    "# Extract the corresponding values of the testing points from the classified image\n",
    "validation = classified.sampleRegions(\n",
    "        collection= testing_sample,\n",
    "        properties= [\"cropland\"],\n",
    "        scale=10\n",
    "        )\n",
    "\n",
    "\"\"\" \n",
    "validation = s2_median_2023.sampleRegions(\n",
    "  collection = testing_sample,\n",
    "  properties=  [\"remapped\"],\n",
    "  scale=  10,\n",
    "  )\n",
    "\n",
    "test = validation.classify(classifier)\n",
    "\"\"\"\n",
    "\n",
    "# Get the error matrix and print its dimensions\n",
    "error_matrix = validation.errorMatrix(actual=\"cropland\", predicted=\"classification\")\n",
    "error_matrix_array = error_matrix.array().getInfo()\n",
    "\n",
    "# Print the error matrix array\n",
    "print(\"Error matrix array:\", error_matrix_array)\n",
    "\n",
    "# Check the dimensions of the error matrix\n",
    "num_rows = len(error_matrix_array)\n",
    "num_columns = len(error_matrix_array[0]) if num_rows > 0 else 0\n",
    "print(f\"Error matrix dimensions: {num_rows} rows x {num_columns} columns\")\n",
    "\n",
    "# Prepare data for DataFrame (excluding the first row and column)\n",
    "data = [row[1:] for row in error_matrix_array[1:]]\n",
    "\n",
    "# Define column names based on the first row (excluding the first element)\n",
    "columns = crop_types\n",
    "\n",
    "# Check if the number of columns matches\n",
    "if len(columns) != len(data[0]):\n",
    "    raise ValueError(f\"Number of columns ({len(columns)}) does not match data ({len(data[0])})\")\n",
    "\n",
    "# Create DataFrame for the error matrix\n",
    "error_matrix_df = pd.DataFrame(data, columns=columns)\n",
    "print(error_matrix_df)\n",
    "\n",
    "# Save the error matric to CSV\n",
    "error_matrix_df.to_csv(\"Outputs/rf_error_matrix_crop_US.csv\")\n",
    "\n",
    "\n",
    "# Print accuracy metrics\n",
    "print(\"Overall Accuracy for Random Forest:\", round(error_matrix.accuracy().getInfo(), 3))\n",
    "print(\"Producers Accuracy for Random Forest:\", error_matrix.producersAccuracy().getInfo())\n",
    "print(\"Consumers Accuracy for Random Forest:\", error_matrix.consumersAccuracy().getInfo())\n",
    "print(\"Kappa for Random Forest:\", round(error_matrix.kappa().getInfo(), 3))\n",
    "\n",
    "\n",
    " # Get feature importance and values from the classifier\n",
    "explained = classifier.explain()\n",
    "importance = ee.Dictionary(explained.get(\"importance\"))\n",
    "feature_names = importance.keys().getInfo()\n",
    "importance_values = importance.values().getInfo()\n",
    "#importance_values = list(importance.values().getInfo().values())  # Convert values to list explicitly\n",
    "    \n",
    "# Combine the feature names and values into a DataFrame\n",
    "importance_combined = pd.DataFrame({\n",
    "        'Feature': feature_names,\n",
    "        'Importance': importance_values\n",
    "    })\n",
    "\n",
    "# Normalize feature importance values to [0, 1]\n",
    "scaler = MinMaxScaler()\n",
    "    \n",
    "# Flatten and reshape importance values before normalization\n",
    "importance_values = [[v] for v in importance_combined['Importance'].values]\n",
    "importance_values_norm = scaler.fit_transform(importance_values)\n",
    "\n",
    "# Convert normalized values to percentages\n",
    "importance_values_norm_percent = (importance_values_norm / importance_values_norm.sum()) * 100\n",
    "\n",
    "# Convert original values to percentages\n",
    "importance_values_percent = (importance_combined[\"Importance\"] / importance_combined[\"Importance\"].sum()) * 100\n",
    "\n",
    "# Update importance_combined with percentage values\n",
    "importance_combined['Importance_Norm'] = importance_values_norm.flatten()\n",
    "importance_combined['Importance_Norm_Percent'] = importance_values_norm_percent.flatten()\n",
    "importance_combined['Importance_Percent'] = importance_values_percent\n",
    "\n",
    "importance_combined.sort_values(ascending=False, by=\"Importance\").head(11)\n",
    "\n",
    "# Save normalized feature importance to CSV\n",
    "importance_combined.to_csv(\"Outputs/rf_feature_importance_crop_US.csv\", index=False)"
   ]
  },
  {
   "cell_type": "code",
   "execution_count": 139,
   "metadata": {},
   "outputs": [
    {
     "data": {
      "text/html": [
       "\n",
       "            <style>\n",
       "                .geemap-dark {\n",
       "                    --jp-widgets-color: white;\n",
       "                    --jp-widgets-label-color: white;\n",
       "                    --jp-ui-font-color1: white;\n",
       "                    --jp-layout-color2: #454545;\n",
       "                    background-color: #383838;\n",
       "                }\n",
       "\n",
       "                .geemap-dark .jupyter-button {\n",
       "                    --jp-layout-color3: #383838;\n",
       "                }\n",
       "\n",
       "                .geemap-colab {\n",
       "                    background-color: var(--colab-primary-surface-color, white);\n",
       "                }\n",
       "\n",
       "                .geemap-colab .jupyter-button {\n",
       "                    --jp-layout-color3: var(--colab-primary-surface-color, white);\n",
       "                }\n",
       "            </style>\n",
       "            "
      ],
      "text/plain": [
       "<IPython.core.display.HTML object>"
      ]
     },
     "metadata": {},
     "output_type": "display_data"
    }
   ],
   "source": [
    "# Convert the binary image to integer with values 0 and 1\n",
    "#classified_int = classified.multiply(255).toInt()"
   ]
  },
  {
   "cell_type": "markdown",
   "metadata": {},
   "source": [
    "#### 6. RESULTS VISUALIZATION"
   ]
  },
  {
   "cell_type": "code",
   "execution_count": 144,
   "metadata": {},
   "outputs": [
    {
     "data": {
      "text/html": [
       "\n",
       "            <style>\n",
       "                .geemap-dark {\n",
       "                    --jp-widgets-color: white;\n",
       "                    --jp-widgets-label-color: white;\n",
       "                    --jp-ui-font-color1: white;\n",
       "                    --jp-layout-color2: #454545;\n",
       "                    background-color: #383838;\n",
       "                }\n",
       "\n",
       "                .geemap-dark .jupyter-button {\n",
       "                    --jp-layout-color3: #383838;\n",
       "                }\n",
       "\n",
       "                .geemap-colab {\n",
       "                    background-color: var(--colab-primary-surface-color, white);\n",
       "                }\n",
       "\n",
       "                .geemap-colab .jupyter-button {\n",
       "                    --jp-layout-color3: var(--colab-primary-surface-color, white);\n",
       "                }\n",
       "            </style>\n",
       "            "
      ],
      "text/plain": [
       "<IPython.core.display.HTML object>"
      ]
     },
     "metadata": {},
     "output_type": "display_data"
    },
    {
     "data": {
      "application/vnd.jupyter.widget-view+json": {
       "model_id": "828b76e9c82d47f1a15a0296984883a8",
       "version_major": 2,
       "version_minor": 0
      },
      "text/plain": [
       "Map(center=[40.7959, -84.4795], controls=(ZoomControl(options=['position', 'zoom_in_text', 'zoom_in_title', 'z…"
      ]
     },
     "execution_count": 144,
     "metadata": {},
     "output_type": "execute_result"
    }
   ],
   "source": [
    "# Visualize the result of the S-2 Crop Layer(10m) and the CDL (30m)\n",
    "crop_vis_params = {\"min\": 1, \"max\":13, \"palette\" : [\"#ffd300\", \"#267000\", \"#dda50a\", \"#a57000\", \"#707000\", \"#ffa5e2\", \"#a5f28c\", \"#4970a3\", \"#999999\", \"#93cc93\", \"#e8ffbf\", \"#7cafaf\", \"#7cafaf\"]}\n",
    "\n",
    "cdl_params = (\n",
    "    cdl_crop,\n",
    "    {},\n",
    "    \"Original Crop Layer (30m)\"\n",
    ")\n",
    "\n",
    "rf_crop_type_params= (\n",
    "    classified,\n",
    "    crop_vis_params,\n",
    "    \"Classified Crop Type Map (10m)\"\n",
    ")\n",
    "\n",
    "sliderMap(cdl_params, rf_crop_type_params)"
   ]
  },
  {
   "cell_type": "code",
   "execution_count": 145,
   "metadata": {},
   "outputs": [
    {
     "data": {
      "text/html": [
       "\n",
       "            <style>\n",
       "                .geemap-dark {\n",
       "                    --jp-widgets-color: white;\n",
       "                    --jp-widgets-label-color: white;\n",
       "                    --jp-ui-font-color1: white;\n",
       "                    --jp-layout-color2: #454545;\n",
       "                    background-color: #383838;\n",
       "                }\n",
       "\n",
       "                .geemap-dark .jupyter-button {\n",
       "                    --jp-layout-color3: #383838;\n",
       "                }\n",
       "\n",
       "                .geemap-colab {\n",
       "                    background-color: var(--colab-primary-surface-color, white);\n",
       "                }\n",
       "\n",
       "                .geemap-colab .jupyter-button {\n",
       "                    --jp-layout-color3: var(--colab-primary-surface-color, white);\n",
       "                }\n",
       "            </style>\n",
       "            "
      ],
      "text/plain": [
       "<IPython.core.display.HTML object>"
      ]
     },
     "metadata": {},
     "output_type": "display_data"
    },
    {
     "data": {
      "application/vnd.jupyter.widget-view+json": {
       "model_id": "56406b0065c9412e82903c09a47a7fe8",
       "version_major": 2,
       "version_minor": 0
      },
      "text/plain": [
       "Map(center=[40.7959, -84.4795], controls=(ZoomControl(options=['position', 'zoom_in_text', 'zoom_in_title', 'z…"
      ]
     },
     "execution_count": 145,
     "metadata": {},
     "output_type": "execute_result"
    }
   ],
   "source": [
    "# Visualize the result of the S-2 Crop Layer(10m) and the Sentinel-2 Median Composite\n",
    "s2_vis_params = {\"min\": 0, \"max\":0.3, \"bands\": [\"B4_3\", \"B3_3\", \"B2_3\"], \"gamma\":0.8}\n",
    "\n",
    "s2_params = (\n",
    "    s2_monthly_median_masked,\n",
    "    s2_vis_params,\n",
    "    \"Sentinel-2 (September Median Composite)\"\n",
    ")\n",
    "\n",
    "rf_crop_type_params= (\n",
    "    classified,\n",
    "    crop_vis_params,\n",
    "    \"Classified Crop Type Map (10m)\"\n",
    ")\n",
    "\n",
    "sliderMap(s2_params, rf_crop_type_params)"
   ]
  },
  {
   "cell_type": "code",
   "execution_count": 147,
   "metadata": {},
   "outputs": [
    {
     "data": {
      "text/html": [
       "\n",
       "            <style>\n",
       "                .geemap-dark {\n",
       "                    --jp-widgets-color: white;\n",
       "                    --jp-widgets-label-color: white;\n",
       "                    --jp-ui-font-color1: white;\n",
       "                    --jp-layout-color2: #454545;\n",
       "                    background-color: #383838;\n",
       "                }\n",
       "\n",
       "                .geemap-dark .jupyter-button {\n",
       "                    --jp-layout-color3: #383838;\n",
       "                }\n",
       "\n",
       "                .geemap-colab {\n",
       "                    background-color: var(--colab-primary-surface-color, white);\n",
       "                }\n",
       "\n",
       "                .geemap-colab .jupyter-button {\n",
       "                    --jp-layout-color3: var(--colab-primary-surface-color, white);\n",
       "                }\n",
       "            </style>\n",
       "            "
      ],
      "text/plain": [
       "<IPython.core.display.HTML object>"
      ]
     },
     "metadata": {},
     "output_type": "display_data"
    },
    {
     "data": {
      "application/vnd.jupyter.widget-view+json": {
       "model_id": "0cb94def901e4394b64485c6730df56b",
       "version_major": 2,
       "version_minor": 0
      },
      "text/plain": [
       "GridspecLayout(children=(Output(layout=Layout(grid_area='widget001')), Output(layout=Layout(grid_area='widget0…"
      ]
     },
     "execution_count": 147,
     "metadata": {},
     "output_type": "execute_result"
    }
   ],
   "source": [
    "# Create a Linked Map to visualize the S-2 Crop Layer(10m), CDL (30m), Sentinel Monthly Median Composite, & NAIP (0.6m) \n",
    "\n",
    "# Define a list of layers\n",
    "lc_layers = [classified,cdl_crop,  naip, s2_monthly_median_masked,] \n",
    "\n",
    "# Define the visualization parameters\n",
    "viz_params = [\n",
    "    crop_vis_params,\n",
    "    {},\n",
    "    viz_params_naip,\n",
    "    s2_vis_params\n",
    "]\n",
    " \n",
    "    \n",
    "# Create labels for the link map\n",
    "labels = [\n",
    "    \"Classified Crop Type Map (10m)\",\n",
    "    \"Original Crop Layer (30m)\",\n",
    "     \"NAIP (0.6m)\",\n",
    "    \"Sentinel-2 (Monthly Median Composite)\"\n",
    "]\n",
    "\n",
    "# Visualize the layers\n",
    "linkedMap(lc_layers, viz_params, labels)"
   ]
  },
  {
   "cell_type": "markdown",
   "metadata": {},
   "source": [
    "### 7. EXPORT RESULTS"
   ]
  },
  {
   "cell_type": "code",
   "execution_count": 150,
   "metadata": {},
   "outputs": [
    {
     "data": {
      "text/html": [
       "\n",
       "            <style>\n",
       "                .geemap-dark {\n",
       "                    --jp-widgets-color: white;\n",
       "                    --jp-widgets-label-color: white;\n",
       "                    --jp-ui-font-color1: white;\n",
       "                    --jp-layout-color2: #454545;\n",
       "                    background-color: #383838;\n",
       "                }\n",
       "\n",
       "                .geemap-dark .jupyter-button {\n",
       "                    --jp-layout-color3: #383838;\n",
       "                }\n",
       "\n",
       "                .geemap-colab {\n",
       "                    background-color: var(--colab-primary-surface-color, white);\n",
       "                }\n",
       "\n",
       "                .geemap-colab .jupyter-button {\n",
       "                    --jp-layout-color3: var(--colab-primary-surface-color, white);\n",
       "                }\n",
       "            </style>\n",
       "            "
      ],
      "text/plain": [
       "<IPython.core.display.HTML object>"
      ]
     },
     "metadata": {},
     "output_type": "display_data"
    },
    {
     "data": {
      "text/plain": [
       "{'state': 'READY',\n",
       " 'description': 'US_Crop_Extent',\n",
       " 'priority': 100,\n",
       " 'creation_timestamp_ms': 1723070235562,\n",
       " 'update_timestamp_ms': 1723070235562,\n",
       " 'start_timestamp_ms': 0,\n",
       " 'task_type': 'EXPORT_FEATURES',\n",
       " 'id': 'B3UBHPPSL6QXXBAOBLCDWW5I',\n",
       " 'name': 'projects/earthengine-legacy/operations/B3UBHPPSL6QXXBAOBLCDWW5I'}"
      ]
     },
     "execution_count": 150,
     "metadata": {},
     "output_type": "execute_result"
    }
   ],
   "source": [
    "# Export the study area feature\n",
    "\n",
    "# Convert the Geometry to a FeatureCollection\n",
    "roi_feature = ee.Feature(roi)\n",
    "roi_feature_collection = ee.FeatureCollection([roi_feature])\n",
    "\n",
    "roi_Export = ee.batch.Export.table.toDrive(\n",
    "    collection = roi_feature_collection, \n",
    "    description= \"US_Crop_Extent\", \n",
    "    folder = \"US_Crop\", \n",
    "    fileFormat = \"SHP\",\n",
    ")\n",
    "\n",
    "roi_Export.start()\n",
    "roi_Export.status()"
   ]
  },
  {
   "cell_type": "code",
   "execution_count": 153,
   "metadata": {},
   "outputs": [
    {
     "data": {
      "text/html": [
       "\n",
       "            <style>\n",
       "                .geemap-dark {\n",
       "                    --jp-widgets-color: white;\n",
       "                    --jp-widgets-label-color: white;\n",
       "                    --jp-ui-font-color1: white;\n",
       "                    --jp-layout-color2: #454545;\n",
       "                    background-color: #383838;\n",
       "                }\n",
       "\n",
       "                .geemap-dark .jupyter-button {\n",
       "                    --jp-layout-color3: #383838;\n",
       "                }\n",
       "\n",
       "                .geemap-colab {\n",
       "                    background-color: var(--colab-primary-surface-color, white);\n",
       "                }\n",
       "\n",
       "                .geemap-colab .jupyter-button {\n",
       "                    --jp-layout-color3: var(--colab-primary-surface-color, white);\n",
       "                }\n",
       "            </style>\n",
       "            "
      ],
      "text/plain": [
       "<IPython.core.display.HTML object>"
      ]
     },
     "metadata": {},
     "output_type": "display_data"
    },
    {
     "data": {
      "text/plain": [
       "{'state': 'COMPLETED',\n",
       " 'description': 'US_Crop_Extent',\n",
       " 'priority': 100,\n",
       " 'creation_timestamp_ms': 1723070235562,\n",
       " 'update_timestamp_ms': 1723070247150,\n",
       " 'start_timestamp_ms': 1723070239317,\n",
       " 'task_type': 'EXPORT_FEATURES',\n",
       " 'destination_uris': ['https://drive.google.com/#folders/1SDMhK8IA2ToQNTbepCG5vEpO3-Jl2BRt'],\n",
       " 'attempt': 1,\n",
       " 'batch_eecu_usage_seconds': 0.000178364003659226,\n",
       " 'id': 'B3UBHPPSL6QXXBAOBLCDWW5I',\n",
       " 'name': 'projects/earthengine-legacy/operations/B3UBHPPSL6QXXBAOBLCDWW5I'}"
      ]
     },
     "execution_count": 153,
     "metadata": {},
     "output_type": "execute_result"
    }
   ],
   "source": [
    "roi_Export.status()"
   ]
  },
  {
   "cell_type": "code",
   "execution_count": null,
   "metadata": {},
   "outputs": [
    {
     "data": {
      "text/html": [
       "\n",
       "            <style>\n",
       "                .geemap-dark {\n",
       "                    --jp-widgets-color: white;\n",
       "                    --jp-widgets-label-color: white;\n",
       "                    --jp-ui-font-color1: white;\n",
       "                    --jp-layout-color2: #454545;\n",
       "                    background-color: #383838;\n",
       "                }\n",
       "\n",
       "                .geemap-dark .jupyter-button {\n",
       "                    --jp-layout-color3: #383838;\n",
       "                }\n",
       "\n",
       "                .geemap-colab {\n",
       "                    background-color: var(--colab-primary-surface-color, white);\n",
       "                }\n",
       "\n",
       "                .geemap-colab .jupyter-button {\n",
       "                    --jp-layout-color3: var(--colab-primary-surface-color, white);\n",
       "                }\n",
       "            </style>\n",
       "            "
      ],
      "text/plain": [
       "<IPython.core.display.HTML object>"
      ]
     },
     "metadata": {},
     "output_type": "display_data"
    },
    {
     "data": {
      "text/plain": [
       "{'state': 'READY',\n",
       " 'description': 'CDL_CROP_30m',\n",
       " 'priority': 100,\n",
       " 'creation_timestamp_ms': 1722645989119,\n",
       " 'update_timestamp_ms': 1722645989119,\n",
       " 'start_timestamp_ms': 0,\n",
       " 'task_type': 'EXPORT_IMAGE',\n",
       " 'id': 'KFRVRJQNPY2NE7MX7CYWBYSL',\n",
       " 'name': 'projects/earthengine-legacy/operations/KFRVRJQNPY2NE7MX7CYWBYSL'}"
      ]
     },
     "execution_count": 474,
     "metadata": {},
     "output_type": "execute_result"
    }
   ],
   "source": [
    "# Export the CDL (30m)\n",
    "cdl_crop_Export = ee.batch.Export.image.toDrive(\n",
    "    image = cdl_crop,\n",
    "    description = \"CDL_CROP_30m\",\n",
    "    folder = \"US_Crop\",\n",
    "    region = roi,\n",
    "    scale = 30,\n",
    "    maxPixels = 1e13\n",
    ")\n",
    "\n",
    "cdl_crop_Export.start()\n",
    "cdl_crop_Export.status()"
   ]
  },
  {
   "cell_type": "code",
   "execution_count": null,
   "metadata": {},
   "outputs": [
    {
     "data": {
      "text/html": [
       "\n",
       "            <style>\n",
       "                .geemap-dark {\n",
       "                    --jp-widgets-color: white;\n",
       "                    --jp-widgets-label-color: white;\n",
       "                    --jp-ui-font-color1: white;\n",
       "                    --jp-layout-color2: #454545;\n",
       "                    background-color: #383838;\n",
       "                }\n",
       "\n",
       "                .geemap-dark .jupyter-button {\n",
       "                    --jp-layout-color3: #383838;\n",
       "                }\n",
       "\n",
       "                .geemap-colab {\n",
       "                    background-color: var(--colab-primary-surface-color, white);\n",
       "                }\n",
       "\n",
       "                .geemap-colab .jupyter-button {\n",
       "                    --jp-layout-color3: var(--colab-primary-surface-color, white);\n",
       "                }\n",
       "            </style>\n",
       "            "
      ],
      "text/plain": [
       "<IPython.core.display.HTML object>"
      ]
     },
     "metadata": {},
     "output_type": "display_data"
    },
    {
     "data": {
      "text/plain": [
       "{'cropland': {'type': 'PixelType', 'precision': 'int', 'min': 0, 'max': 255}}"
      ]
     },
     "execution_count": 475,
     "metadata": {},
     "output_type": "execute_result"
    }
   ],
   "source": [
    "classified.bandTypes().getInfo()\n",
    "cdl_crop.bandTypes().getInfo()"
   ]
  },
  {
   "cell_type": "code",
   "execution_count": null,
   "metadata": {},
   "outputs": [
    {
     "data": {
      "text/html": [
       "\n",
       "            <style>\n",
       "                .geemap-dark {\n",
       "                    --jp-widgets-color: white;\n",
       "                    --jp-widgets-label-color: white;\n",
       "                    --jp-ui-font-color1: white;\n",
       "                    --jp-layout-color2: #454545;\n",
       "                    background-color: #383838;\n",
       "                }\n",
       "\n",
       "                .geemap-dark .jupyter-button {\n",
       "                    --jp-layout-color3: #383838;\n",
       "                }\n",
       "\n",
       "                .geemap-colab {\n",
       "                    background-color: var(--colab-primary-surface-color, white);\n",
       "                }\n",
       "\n",
       "                .geemap-colab .jupyter-button {\n",
       "                    --jp-layout-color3: var(--colab-primary-surface-color, white);\n",
       "                }\n",
       "            </style>\n",
       "            "
      ],
      "text/plain": [
       "<IPython.core.display.HTML object>"
      ]
     },
     "metadata": {},
     "output_type": "display_data"
    },
    {
     "data": {
      "text/plain": [
       "{'state': 'READY',\n",
       " 'description': 'CDL_CROP_MASKED_10m',\n",
       " 'priority': 100,\n",
       " 'creation_timestamp_ms': 1722645992051,\n",
       " 'update_timestamp_ms': 1722645992051,\n",
       " 'start_timestamp_ms': 0,\n",
       " 'task_type': 'EXPORT_IMAGE',\n",
       " 'id': '7ACIYF5JBYZEMTERLKTS2OXA',\n",
       " 'name': 'projects/earthengine-legacy/operations/7ACIYF5JBYZEMTERLKTS2OXA'}"
      ]
     },
     "execution_count": 476,
     "metadata": {},
     "output_type": "execute_result"
    }
   ],
   "source": [
    "# Export the CDL masked (10m)\n",
    "cdl_masked_Export = ee.batch.Export.image.toDrive(\n",
    "    image = cdl_crop_class_masked,\n",
    "    description = \"CDL_CROP_MASKED_10m\",\n",
    "    folder = \"US_Crop\",\n",
    "    region = roi,\n",
    "    scale = grid_scale,\n",
    "    maxPixels = 1e13\n",
    ")\n",
    "\n",
    "cdl_masked_Export.start()\n",
    "cdl_masked_Export.status()"
   ]
  },
  {
   "cell_type": "code",
   "execution_count": null,
   "metadata": {},
   "outputs": [
    {
     "data": {
      "text/html": [
       "\n",
       "            <style>\n",
       "                .geemap-dark {\n",
       "                    --jp-widgets-color: white;\n",
       "                    --jp-widgets-label-color: white;\n",
       "                    --jp-ui-font-color1: white;\n",
       "                    --jp-layout-color2: #454545;\n",
       "                    background-color: #383838;\n",
       "                }\n",
       "\n",
       "                .geemap-dark .jupyter-button {\n",
       "                    --jp-layout-color3: #383838;\n",
       "                }\n",
       "\n",
       "                .geemap-colab {\n",
       "                    background-color: var(--colab-primary-surface-color, white);\n",
       "                }\n",
       "\n",
       "                .geemap-colab .jupyter-button {\n",
       "                    --jp-layout-color3: var(--colab-primary-surface-color, white);\n",
       "                }\n",
       "            </style>\n",
       "            "
      ],
      "text/plain": [
       "<IPython.core.display.HTML object>"
      ]
     },
     "metadata": {},
     "output_type": "display_data"
    },
    {
     "data": {
      "text/plain": [
       "{'state': 'READY',\n",
       " 'description': 'S2_CLASSIFIED_10m',\n",
       " 'priority': 100,\n",
       " 'creation_timestamp_ms': 1722645994725,\n",
       " 'update_timestamp_ms': 1722645994725,\n",
       " 'start_timestamp_ms': 0,\n",
       " 'task_type': 'EXPORT_IMAGE',\n",
       " 'id': 'JOO4NCYRZOB6SHSFDBMQMDK6',\n",
       " 'name': 'projects/earthengine-legacy/operations/JOO4NCYRZOB6SHSFDBMQMDK6'}"
      ]
     },
     "execution_count": 477,
     "metadata": {},
     "output_type": "execute_result"
    }
   ],
   "source": [
    "# Export the classification (10m)\n",
    "classified_Export = ee.batch.Export.image.toDrive(\n",
    "    image = classified,\n",
    "    description = \"S2_CLASSIFIED_10m\",\n",
    "    folder = \"US_Crop\",\n",
    "    region = roi,\n",
    "    scale = grid_scale,\n",
    "    maxPixels = 1e13\n",
    ")\n",
    "\n",
    "classified_Export.start()\n",
    "classified_Export.status()"
   ]
  },
  {
   "cell_type": "code",
   "execution_count": null,
   "metadata": {},
   "outputs": [
    {
     "data": {
      "text/html": [
       "\n",
       "            <style>\n",
       "                .geemap-dark {\n",
       "                    --jp-widgets-color: white;\n",
       "                    --jp-widgets-label-color: white;\n",
       "                    --jp-ui-font-color1: white;\n",
       "                    --jp-layout-color2: #454545;\n",
       "                    background-color: #383838;\n",
       "                }\n",
       "\n",
       "                .geemap-dark .jupyter-button {\n",
       "                    --jp-layout-color3: #383838;\n",
       "                }\n",
       "\n",
       "                .geemap-colab {\n",
       "                    background-color: var(--colab-primary-surface-color, white);\n",
       "                }\n",
       "\n",
       "                .geemap-colab .jupyter-button {\n",
       "                    --jp-layout-color3: var(--colab-primary-surface-color, white);\n",
       "                }\n",
       "            </style>\n",
       "            "
      ],
      "text/plain": [
       "<IPython.core.display.HTML object>"
      ]
     },
     "metadata": {},
     "output_type": "display_data"
    },
    {
     "data": {
      "text/plain": [
       "{'state': 'READY',\n",
       " 'description': 'NAIP_US_CROP_0_6m',\n",
       " 'priority': 100,\n",
       " 'creation_timestamp_ms': 1722668769923,\n",
       " 'update_timestamp_ms': 1722668769923,\n",
       " 'start_timestamp_ms': 0,\n",
       " 'task_type': 'EXPORT_IMAGE',\n",
       " 'id': 'VSG2NRFJRRWSL6DIR4YF7M2K',\n",
       " 'name': 'projects/earthengine-legacy/operations/VSG2NRFJRRWSL6DIR4YF7M2K'}"
      ]
     },
     "execution_count": 498,
     "metadata": {},
     "output_type": "execute_result"
    }
   ],
   "source": [
    "# Export the NAIP Image (0.6m)\n",
    "naip_export = naip\n",
    "naip_Export = ee.batch.Export.image.toDrive(\n",
    "    image = naip_export,\n",
    "    description = \"NAIP_US_CROP_0_6m\",\n",
    "    folder = \"US_Crop\",\n",
    "    region = roi,\n",
    "    scale = 0.6,\n",
    "    maxPixels = 1e13\n",
    ")\n",
    "\n",
    "naip_Export.start()\n",
    "naip_Export.status()"
   ]
  },
  {
   "cell_type": "code",
   "execution_count": null,
   "metadata": {},
   "outputs": [
    {
     "data": {
      "text/html": [
       "\n",
       "            <style>\n",
       "                .geemap-dark {\n",
       "                    --jp-widgets-color: white;\n",
       "                    --jp-widgets-label-color: white;\n",
       "                    --jp-ui-font-color1: white;\n",
       "                    --jp-layout-color2: #454545;\n",
       "                    background-color: #383838;\n",
       "                }\n",
       "\n",
       "                .geemap-dark .jupyter-button {\n",
       "                    --jp-layout-color3: #383838;\n",
       "                }\n",
       "\n",
       "                .geemap-colab {\n",
       "                    background-color: var(--colab-primary-surface-color, white);\n",
       "                }\n",
       "\n",
       "                .geemap-colab .jupyter-button {\n",
       "                    --jp-layout-color3: var(--colab-primary-surface-color, white);\n",
       "                }\n",
       "            </style>\n",
       "            "
      ],
      "text/plain": [
       "<IPython.core.display.HTML object>"
      ]
     },
     "metadata": {},
     "output_type": "display_data"
    },
    {
     "data": {
      "text/plain": [
       "{'state': 'RUNNING',\n",
       " 'description': 'NAIP_US_CROP_0_6m',\n",
       " 'priority': 100,\n",
       " 'creation_timestamp_ms': 1722668769923,\n",
       " 'update_timestamp_ms': 1722668772731,\n",
       " 'start_timestamp_ms': 1722668772644,\n",
       " 'task_type': 'EXPORT_IMAGE',\n",
       " 'attempt': 1,\n",
       " 'id': 'VSG2NRFJRRWSL6DIR4YF7M2K',\n",
       " 'name': 'projects/earthengine-legacy/operations/VSG2NRFJRRWSL6DIR4YF7M2K'}"
      ]
     },
     "execution_count": 499,
     "metadata": {},
     "output_type": "execute_result"
    }
   ],
   "source": [
    "naip_Export.status()"
   ]
  },
  {
   "cell_type": "code",
   "execution_count": null,
   "metadata": {},
   "outputs": [
    {
     "data": {
      "text/html": [
       "\n",
       "            <style>\n",
       "                .geemap-dark {\n",
       "                    --jp-widgets-color: white;\n",
       "                    --jp-widgets-label-color: white;\n",
       "                    --jp-ui-font-color1: white;\n",
       "                    --jp-layout-color2: #454545;\n",
       "                    background-color: #383838;\n",
       "                }\n",
       "\n",
       "                .geemap-dark .jupyter-button {\n",
       "                    --jp-layout-color3: #383838;\n",
       "                }\n",
       "\n",
       "                .geemap-colab {\n",
       "                    background-color: var(--colab-primary-surface-color, white);\n",
       "                }\n",
       "\n",
       "                .geemap-colab .jupyter-button {\n",
       "                    --jp-layout-color3: var(--colab-primary-surface-color, white);\n",
       "                }\n",
       "            </style>\n",
       "            "
      ],
      "text/plain": [
       "<IPython.core.display.HTML object>"
      ]
     },
     "metadata": {},
     "output_type": "display_data"
    },
    {
     "data": {
      "text/plain": [
       "{'state': 'READY',\n",
       " 'description': 'S2_AUG_10m',\n",
       " 'priority': 100,\n",
       " 'creation_timestamp_ms': 1722662942356,\n",
       " 'update_timestamp_ms': 1722662942356,\n",
       " 'start_timestamp_ms': 0,\n",
       " 'task_type': 'EXPORT_IMAGE',\n",
       " 'id': 'LDRLSLTADVVAM245KAH2DTJW',\n",
       " 'name': 'projects/earthengine-legacy/operations/LDRLSLTADVVAM245KAH2DTJW'}"
      ]
     },
     "execution_count": 487,
     "metadata": {},
     "output_type": "execute_result"
    }
   ],
   "source": [
    "# Export the Sentinel Monthly Median Comoposite Image (10m)\n",
    "s2_median_export = s2_monthly_median.select(['B2_5', 'B3_5', 'B4_5', 'B8_5', 'B5_5', 'B6_5', 'B7_5', 'B8A_5', 'B11_5', 'B12_5']).clip(roi)\n",
    "\n",
    "s2_Export = ee.batch.Export.image.toDrive(\n",
    "    image = s2_median_export,\n",
    "    description = \"S2_AUG_10m\",\n",
    "    folder = \"US_Crop\",\n",
    "    region = roi,\n",
    "    scale = grid_scale,\n",
    "    maxPixels = 1e13\n",
    ")\n",
    "\n",
    "s2_Export.start()\n",
    "s2_Export.status()"
   ]
  },
  {
   "cell_type": "code",
   "execution_count": null,
   "metadata": {},
   "outputs": [
    {
     "data": {
      "text/html": [
       "\n",
       "            <style>\n",
       "                .geemap-dark {\n",
       "                    --jp-widgets-color: white;\n",
       "                    --jp-widgets-label-color: white;\n",
       "                    --jp-ui-font-color1: white;\n",
       "                    --jp-layout-color2: #454545;\n",
       "                    background-color: #383838;\n",
       "                }\n",
       "\n",
       "                .geemap-dark .jupyter-button {\n",
       "                    --jp-layout-color3: #383838;\n",
       "                }\n",
       "\n",
       "                .geemap-colab {\n",
       "                    background-color: var(--colab-primary-surface-color, white);\n",
       "                }\n",
       "\n",
       "                .geemap-colab .jupyter-button {\n",
       "                    --jp-layout-color3: var(--colab-primary-surface-color, white);\n",
       "                }\n",
       "            </style>\n",
       "            "
      ],
      "text/plain": [
       "<IPython.core.display.HTML object>"
      ]
     },
     "metadata": {},
     "output_type": "display_data"
    },
    {
     "data": {
      "text/plain": [
       "{'state': 'COMPLETED',\n",
       " 'description': 'S2_AUG_10m',\n",
       " 'priority': 100,\n",
       " 'creation_timestamp_ms': 1722662942356,\n",
       " 'update_timestamp_ms': 1722663364257,\n",
       " 'start_timestamp_ms': 1722662944815,\n",
       " 'task_type': 'EXPORT_IMAGE',\n",
       " 'destination_uris': ['https://drive.google.com/#folders/1SDMhK8IA2ToQNTbepCG5vEpO3-Jl2BRt'],\n",
       " 'attempt': 1,\n",
       " 'batch_eecu_usage_seconds': 1392.486572265625,\n",
       " 'id': 'LDRLSLTADVVAM245KAH2DTJW',\n",
       " 'name': 'projects/earthengine-legacy/operations/LDRLSLTADVVAM245KAH2DTJW'}"
      ]
     },
     "execution_count": 491,
     "metadata": {},
     "output_type": "execute_result"
    }
   ],
   "source": [
    "s2_Export.status()"
   ]
  }
 ],
 "metadata": {
  "kernelspec": {
   "display_name": "geolukmon",
   "language": "python",
   "name": "python3"
  },
  "language_info": {
   "codemirror_mode": {
    "name": "ipython",
    "version": 3
   },
   "file_extension": ".py",
   "mimetype": "text/x-python",
   "name": "python",
   "nbconvert_exporter": "python",
   "pygments_lexer": "ipython3",
   "version": "3.12.0"
  }
 },
 "nbformat": 4,
 "nbformat_minor": 2
}
